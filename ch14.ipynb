{
 "metadata": {
  "language_info": {
   "codemirror_mode": {
    "name": "ipython",
    "version": 3
   },
   "file_extension": ".py",
   "mimetype": "text/x-python",
   "name": "python",
   "nbconvert_exporter": "python",
   "pygments_lexer": "ipython3",
   "version": 3
  },
  "orig_nbformat": 2,
  "kernelspec": {
   "name": "python_defaultSpec_1595743661676",
   "display_name": "Python 3.7.3 64-bit ('base': conda)"
  }
 },
 "nbformat": 4,
 "nbformat_minor": 2,
 "cells": [
  {
   "cell_type": "markdown",
   "metadata": {},
   "source": [
    "# 测试、调试和异常"
   ]
  },
  {
   "cell_type": "markdown",
   "metadata": {},
   "source": [
    "## 测试stdout"
   ]
  },
  {
   "cell_type": "code",
   "execution_count": 1,
   "metadata": {},
   "outputs": [],
   "source": [
    "def urlprint(protocol, host, domain):\n",
    "    url = '{}://{}.{}'.format(protocol, host, domain)\n",
    "    print(url)"
   ]
  },
  {
   "cell_type": "code",
   "execution_count": 2,
   "metadata": {
    "tags": []
   },
   "outputs": [
    {
     "output_type": "stream",
     "name": "stdout",
     "text": "test_url_gets_to_stdout (__main__.TestURLPrint) ...ok\n\n----------------------------------------------------------------------\nRan 1 test in 0.002s\n\nOK\n"
    },
    {
     "output_type": "execute_result",
     "data": {
      "text/plain": "<unittest.runner.TextTestResult run=1 errors=0 failures=0>"
     },
     "metadata": {},
     "execution_count": 2
    }
   ],
   "source": [
    "from io import StringIO\n",
    "import unittest\n",
    "from unittest import TestCase\n",
    "from unittest.mock import patch\n",
    "\n",
    "class TestURLPrint(TestCase):\n",
    "    def test_url_gets_to_stdout(self):\n",
    "        protocol = 'http'\n",
    "        host = 'www'\n",
    "        domain = 'example.com'\n",
    "        expected_url = '{}://{}.{}\\n'.format(protocol, host, domain)\n",
    "        with patch('sys.stdout', new=StringIO()) as fake_out:\n",
    "            urlprint(protocol, host, domain)\n",
    "            self.assertEqual(fake_out.getvalue(), expected_url)\n",
    "\n",
    "loader = unittest.TestLoader()\n",
    "suite = loader.loadTestsFromTestCase(TestURLPrint)\n",
    "unittest.TextTestRunner(sys.stdout,verbosity=2).run(suite)"
   ]
  },
  {
   "cell_type": "markdown",
   "metadata": {},
   "source": [
    "## 在单元测试中给对象打补丁"
   ]
  },
  {
   "cell_type": "code",
   "execution_count": 3,
   "metadata": {},
   "outputs": [],
   "source": [
    "\n",
    "from unittest.mock import patch\n",
    "\n",
    "def f(x):\n",
    "    print(x)\n",
    "\n",
    "@patch('__main__.f')\n",
    "def test1(x, mock_func):\n",
    "    f(x)\n",
    "    mock_func.assert_called_with(x)\n",
    "\n",
    "test1(1)"
   ]
  },
  {
   "cell_type": "code",
   "execution_count": 4,
   "metadata": {},
   "outputs": [],
   "source": [
    "def test2(x):\n",
    "    with patch('__main__.f') as mock_func:\n",
    "        f(x)\n",
    "        mock_func.assert_called_with(x)\n",
    "\n",
    "test2(1)"
   ]
  },
  {
   "cell_type": "markdown",
   "metadata": {},
   "source": [
    "## 在单元测试中测试异常情况"
   ]
  },
  {
   "cell_type": "code",
   "execution_count": 5,
   "metadata": {
    "tags": []
   },
   "outputs": [
    {
     "output_type": "stream",
     "name": "stdout",
     "text": "test_bad_int (__main__.TestConversion) ...ok\n\n----------------------------------------------------------------------\nRan 1 test in 0.002s\n\nOK\n"
    },
    {
     "output_type": "execute_result",
     "data": {
      "text/plain": "<unittest.runner.TextTestResult run=1 errors=0 failures=0>"
     },
     "metadata": {},
     "execution_count": 5
    }
   ],
   "source": [
    "import unittest\n",
    "\n",
    "def parse_int(s):\n",
    "    return int(s)\n",
    "\n",
    "class TestConversion(unittest.TestCase):\n",
    "    def test_bad_int(self):\n",
    "        self.assertRaises(ValueError, parse_int, 'N/A')\n",
    "\n",
    "loader = unittest.TestLoader()\n",
    "suite = loader.loadTestsFromTestCase(TestConversion)\n",
    "unittest.TextTestRunner(sys.stdout,verbosity=2).run(suite)"
   ]
  },
  {
   "cell_type": "code",
   "execution_count": 6,
   "metadata": {
    "tags": []
   },
   "outputs": [
    {
     "output_type": "stream",
     "name": "stdout",
     "text": "test_file_not_found (__main__.TestIO) ...ok\n\n----------------------------------------------------------------------\nRan 1 test in 0.006s\n\nOK\n"
    },
    {
     "output_type": "execute_result",
     "data": {
      "text/plain": "<unittest.runner.TextTestResult run=1 errors=0 failures=0>"
     },
     "metadata": {},
     "execution_count": 6
    }
   ],
   "source": [
    "import errno\n",
    "\n",
    "class TestIO(unittest.TestCase):\n",
    "    def test_file_not_found(self):\n",
    "        try:\n",
    "            f = open('/file')\n",
    "        except IOError as e:\n",
    "            self.assertEqual(e.errno, errno.ENOENT)\n",
    "        else:\n",
    "            self.fail('IOError not raised')\n",
    "\n",
    "loader = unittest.TestLoader()\n",
    "suite = loader.loadTestsFromTestCase(TestIO)\n",
    "unittest.TextTestRunner(sys.stdout,verbosity=2).run(suite)"
   ]
  },
  {
   "cell_type": "markdown",
   "metadata": {},
   "source": [
    "## 将测试输出用日志文件记录"
   ]
  },
  {
   "cell_type": "code",
   "execution_count": 7,
   "metadata": {},
   "outputs": [],
   "source": [
    "import unittest\n",
    "\n",
    "def main(out=sys.stderr, verbosity=2):\n",
    "    loader = unittest.TestLoader()\n",
    "    suite = loader.loadTestsFromModule(sys.modules[__name__])\n",
    "    unittest.TextTestRunner(out, verbosity=verbosity).run(suite)\n",
    "\n",
    "\n",
    "with open('data/testing.out', 'w') as f:\n",
    "    main(f)"
   ]
  },
  {
   "cell_type": "markdown",
   "metadata": {},
   "source": [
    "## 忽略或期望测试失败"
   ]
  },
  {
   "cell_type": "code",
   "execution_count": 8,
   "metadata": {
    "tags": []
   },
   "outputs": [
    {
     "output_type": "stream",
     "name": "stdout",
     "text": "test_0 (__main__.Tests) ...ok\ntest_1 (__main__.Tests) ...skipped 'skipped test'\ntest_2 (__main__.Tests) ...ok\ntest_3 (__main__.Tests) ...skipped 'Mac specific test'\ntest_4 (__main__.Tests) ...unexpected success\n\n----------------------------------------------------------------------\nRan 5 tests in 0.011s\n\nFAILED (skipped=2, unexpected successes=1)\n"
    },
    {
     "output_type": "execute_result",
     "data": {
      "text/plain": "<unittest.runner.TextTestResult run=5 errors=0 failures=0>"
     },
     "metadata": {},
     "execution_count": 8
    }
   ],
   "source": [
    "import unittest\n",
    "import os\n",
    "import platform\n",
    "\n",
    "class Tests(unittest.TestCase):\n",
    "    def test_0(self):\n",
    "        self.assertTrue(True)\n",
    "\n",
    "    @unittest.skip('skipped test')\n",
    "    def test_1(self):\n",
    "        self.fail('should have failed!')\n",
    "    \n",
    "    @unittest.skipIf(os.name=='posix', 'Not supported on Unix')\n",
    "    def test_2(self):\n",
    "        import winreg\n",
    "\n",
    "    @unittest.skipUnless(platform.system() == 'Darwin', 'Mac specific test')\n",
    "    def test_3(self):\n",
    "        self.assertTrue(True)\n",
    "\n",
    "    @unittest.expectedFailure\n",
    "    def test_4(self):\n",
    "        self.assertEqual(2+3, 5)\n",
    "\n",
    "loader = unittest.TestLoader()\n",
    "suite = loader.loadTestsFromTestCase(Tests)\n",
    "unittest.TextTestRunner(sys.stdout,verbosity=2).run(suite)"
   ]
  },
  {
   "cell_type": "markdown",
   "metadata": {},
   "source": [
    "## 处理多个异常"
   ]
  },
  {
   "cell_type": "code",
   "execution_count": 9,
   "metadata": {
    "tags": []
   },
   "outputs": [
    {
     "output_type": "stream",
     "name": "stdout",
     "text": "File not found\n"
    }
   ],
   "source": [
    "import errno\n",
    "\n",
    "try:\n",
    "    f = open('data/xxxx')\n",
    "except (FileNotFoundError, PermissionError) as e:\n",
    "    if e.errno == errno.ENOENT:\n",
    "        print('File not found')\n",
    "    elif e.errno == errno.EACCES:\n",
    "        print('Permission denied')\n",
    "    else:\n",
    "        print('Unexpected error: %d', e.errno)"
   ]
  },
  {
   "cell_type": "markdown",
   "metadata": {},
   "source": [
    "## 捕获所有异常"
   ]
  },
  {
   "cell_type": "code",
   "execution_count": 10,
   "metadata": {
    "tags": []
   },
   "outputs": [
    {
     "output_type": "stream",
     "name": "stdout",
     "text": "Reason:  division by zero\n"
    }
   ],
   "source": [
    "try:\n",
    "    i = 1/0\n",
    "except Exception as e:\n",
    "    print('Reason: ', e)"
   ]
  },
  {
   "cell_type": "markdown",
   "metadata": {},
   "source": [
    "## 创建自定义异常"
   ]
  },
  {
   "cell_type": "code",
   "execution_count": 11,
   "metadata": {},
   "outputs": [],
   "source": [
    "# 自定义异常直接继承Exception即可\n",
    "\n",
    "class NetworkError(Exception):\n",
    "    pass\n",
    "\n",
    "class HostnameError(NetworkError):\n",
    "    pass\n",
    "\n",
    "class TimeoutError(NetworkError):\n",
    "    pass\n",
    "\n",
    "class ProtocolError(NetworkError):\n",
    "    pass"
   ]
  },
  {
   "cell_type": "code",
   "execution_count": 12,
   "metadata": {
    "tags": []
   },
   "outputs": [
    {
     "output_type": "stream",
     "name": "stdout",
     "text": "error\n"
    }
   ],
   "source": [
    "try:\n",
    "    raise ProtocolError()\n",
    "except NetworkError as e:\n",
    "    print('error')"
   ]
  },
  {
   "cell_type": "markdown",
   "metadata": {},
   "source": [
    "## 捕获异常后抛出另外的异常"
   ]
  },
  {
   "cell_type": "code",
   "execution_count": 13,
   "metadata": {
    "tags": []
   },
   "outputs": [
    {
     "output_type": "stream",
     "name": "stdout",
     "text": "It didn't work: A parsing error occurred\nCause: invalid literal for int() with base 10: 'N/A'\n"
    }
   ],
   "source": [
    "def example():\n",
    "    try:\n",
    "        int('N/A')\n",
    "    except ValueError as e:\n",
    "        raise RuntimeError('A parsing error occurred') from e\n",
    "\n",
    "\n",
    "try:\n",
    "    example()\n",
    "except RuntimeError as e:\n",
    "    print(\"It didn't work:\", e)\n",
    "    if e.__cause__:\n",
    "        print('Cause:', e.__cause__)"
   ]
  },
  {
   "cell_type": "markdown",
   "metadata": {},
   "source": [
    "## 重新抛出被捕获的异常"
   ]
  },
  {
   "cell_type": "code",
   "execution_count": 15,
   "metadata": {
    "tags": []
   },
   "outputs": [
    {
     "output_type": "stream",
     "name": "stdout",
     "text": "Didn't work\nCause: invalid literal for int() with base 10: 'N/A'\n"
    }
   ],
   "source": [
    "def example():\n",
    "    try:\n",
    "        int('N/A')\n",
    "    except ValueError:\n",
    "        print(\"Didn't work\")\n",
    "        raise\n",
    "\n",
    "try:\n",
    "    example()\n",
    "except ValueError as e:\n",
    "    print('Cause:', e)"
   ]
  }
 ]
}