{
 "metadata": {
  "language_info": {
   "codemirror_mode": {
    "name": "ipython",
    "version": 3
   },
   "file_extension": ".py",
   "mimetype": "text/x-python",
   "name": "python",
   "nbconvert_exporter": "python",
   "pygments_lexer": "ipython3",
   "version": 3
  },
  "orig_nbformat": 2,
  "kernelspec": {
   "name": "python_defaultSpec_1595576843803",
   "display_name": "Python 3.7.7 64-bit ('learn': conda)"
  }
 },
 "nbformat": 4,
 "nbformat_minor": 2,
 "cells": [
  {
   "cell_type": "markdown",
   "metadata": {},
   "source": [
    "# 脚本编程与系统管理"
   ]
  },
  {
   "cell_type": "markdown",
   "metadata": {},
   "source": [
    "## 通过重定向/管道/文件接受输入"
   ]
  },
  {
   "cell_type": "code",
   "execution_count": 1,
   "metadata": {
    "tags": []
   },
   "outputs": [
    {
     "output_type": "stream",
     "name": "stdout",
     "text": "hello world\n\n"
    }
   ],
   "source": [
    "import fileinput\n",
    "\n",
    "# 脚本使用时就直接用管道即可\n",
    "with fileinput.input('data/somefile.txt') as f:\n",
    "    for line in f:\n",
    "        print(line, end='')"
   ]
  },
  {
   "cell_type": "markdown",
   "metadata": {},
   "source": [
    "##  终止程序并给出错误信息"
   ]
  },
  {
   "cell_type": "code",
   "execution_count": 2,
   "metadata": {},
   "outputs": [
    {
     "output_type": "error",
     "ename": "SystemExit",
     "evalue": "It failed!",
     "traceback": [
      "An exception has occurred, use %tb to see the full traceback.\n",
      "\u001b[1;31mSystemExit\u001b[0m\u001b[1;31m:\u001b[0m It failed!\n"
     ]
    }
   ],
   "source": [
    "\n",
    "raise SystemExit('It failed!')"
   ]
  },
  {
   "cell_type": "code",
   "execution_count": 3,
   "metadata": {
    "tags": []
   },
   "outputs": [
    {
     "output_type": "stream",
     "name": "stderr",
     "text": "It failed!\n"
    },
    {
     "output_type": "error",
     "ename": "SystemExit",
     "evalue": "1",
     "traceback": [
      "An exception has occurred, use %tb to see the full traceback.\n",
      "\u001b[1;31mSystemExit\u001b[0m\u001b[1;31m:\u001b[0m 1\n"
     ]
    }
   ],
   "source": [
    "import sys\n",
    "\n",
    "sys.stderr.write('It failed!\\n')\n",
    "raise SystemExit(1)"
   ]
  },
  {
   "cell_type": "markdown",
   "metadata": {},
   "source": [
    "## 解析命令行选项"
   ]
  },
  {
   "cell_type": "code",
   "execution_count": 4,
   "metadata": {
    "tags": []
   },
   "outputs": [
    {
     "output_type": "stream",
     "name": "stdout",
     "text": "usage: ipykernel_launcher.py [-h] -p pattern [-v] [-o OUTFILE]\n                             [--speed {fast,slow}]\n                             [filename [filename ...]]\n\nSearch some files\n\npositional arguments:\n  filename\n\noptional arguments:\n  -h, --help            show this help message and exit\n  -p pattern, --pat pattern\n                        text pattern to search for\n  -v                    verbose mode\n  -o OUTFILE            output file\n  --speed {fast,slow}   search speed\n"
    }
   ],
   "source": [
    "import argparse\n",
    "\n",
    "parser = argparse.ArgumentParser(description='Search some files')\n",
    "parser.add_argument(dest='filenames',metavar='filename', nargs='*')\n",
    "parser.add_argument('-p', '--pat',metavar='pattern', required=True,\n",
    "                    dest='patterns', action='append',\n",
    "                    help='text pattern to search for')\n",
    "parser.add_argument('-v', dest='verbose', action='store_true',\n",
    "                    help='verbose mode')\n",
    "parser.add_argument('-o', dest='outfile', action='store',\n",
    "                    help='output file')\n",
    "parser.add_argument('--speed', dest='speed', action='store',\n",
    "                    choices={'slow','fast'}, default='slow',\n",
    "                    help='search speed')\n",
    "\n",
    "parser.print_help()"
   ]
  },
  {
   "cell_type": "markdown",
   "metadata": {},
   "source": [
    "## 运行时弹出密码输入提示"
   ]
  },
  {
   "cell_type": "code",
   "execution_count": 5,
   "metadata": {
    "tags": []
   },
   "outputs": [
    {
     "output_type": "stream",
     "name": "stdout",
     "text": "OK!\n"
    }
   ],
   "source": [
    "import getpass\n",
    "\n",
    "user = getpass.getuser()\n",
    "passwd = getpass.getpass()\n",
    "\n",
    "def check(user, passwd):\n",
    "    return passwd == 'admin'\n",
    "\n",
    "if check(user, passwd):\n",
    "    print('OK!')\n",
    "else:\n",
    "    print('Boo!')"
   ]
  },
  {
   "cell_type": "markdown",
   "metadata": {},
   "source": [
    "## 获取终端的大小"
   ]
  },
  {
   "cell_type": "code",
   "execution_count": 6,
   "metadata": {},
   "outputs": [],
   "source": [
    "import os\n",
    "\n",
    "# print(os.get_terminal_size())\n",
    "# print(os.get_terminal_size().columns)\n",
    "# print(os.get_terminal_size().lines)"
   ]
  },
  {
   "cell_type": "markdown",
   "metadata": {},
   "source": [
    "## 执行外部命令并获取它的输出"
   ]
  },
  {
   "cell_type": "code",
   "execution_count": 7,
   "metadata": {
    "tags": []
   },
   "outputs": [
    {
     "output_type": "stream",
     "name": "stdout",
     "text": "error\n"
    }
   ],
   "source": [
    "import subprocess\n",
    "\n",
    "try:\n",
    "    out_bytes = subprocess.check_output(['netstat', '-a'], timeout=5)\n",
    "except subprocess.TimeoutExpired as e:\n",
    "    print(\"error\")"
   ]
  },
  {
   "cell_type": "markdown",
   "metadata": {},
   "source": [
    "## 复制或者移动文件和目录"
   ]
  },
  {
   "cell_type": "code",
   "execution_count": 8,
   "metadata": {},
   "outputs": [],
   "source": [
    "import shutil\n",
    "\n",
    "# # Copy src to dst. (cp src dst)\n",
    "# shutil.copy(src, dst)\n",
    "# # Copy files, but preserve metadata (cp -p src dst)\n",
    "# shutil.copy2(src, dst)\n",
    "# # Copy directory tree (cp -R src dst)\n",
    "# shutil.copytree(src, dst)\n",
    "# # Move src to dst (mv src dst)\n",
    "# shutil.move(src, dst)"
   ]
  },
  {
   "cell_type": "markdown",
   "metadata": {},
   "source": [
    "## 创建和解压归档文件"
   ]
  },
  {
   "cell_type": "code",
   "execution_count": 9,
   "metadata": {},
   "outputs": [],
   "source": [
    "import shutil\n",
    "\n",
    "# shutil.unpack_archive()\n",
    "# shutil.make_archive()"
   ]
  },
  {
   "cell_type": "markdown",
   "metadata": {},
   "source": [
    "## 通过文件名查找文件"
   ]
  },
  {
   "cell_type": "code",
   "execution_count": 10,
   "metadata": {
    "tags": []
   },
   "outputs": [
    {
     "output_type": "stream",
     "name": "stdout",
     "text": "./data\n"
    }
   ],
   "source": [
    "import os\n",
    "def findfile(start, name):\n",
    "    for relpath, dirs, files in os.walk(start):\n",
    "        if name in files:\n",
    "            print(relpath)\n",
    "\n",
    "findfile('./', 'somefile.txt')"
   ]
  },
  {
   "cell_type": "markdown",
   "metadata": {},
   "source": [
    "## 读取配置文件"
   ]
  },
  {
   "cell_type": "code",
   "execution_count": 11,
   "metadata": {
    "tags": []
   },
   "outputs": [
    {
     "output_type": "stream",
     "name": "stdout",
     "text": "['installation', 'debug', 'server']\n9000\nTrue\n"
    }
   ],
   "source": [
    "from configparser import ConfigParser\n",
    "\n",
    "cfg = ConfigParser()\n",
    "cfg.read('data/conf.ini')\n",
    "cfg.set('server', 'port', '9000')\n",
    "print(cfg.sections())\n",
    "print(cfg.getint('server','port'))\n",
    "print(cfg.getboolean('debug','log_errors'))"
   ]
  },
  {
   "cell_type": "code",
   "execution_count": 12,
   "metadata": {
    "tags": []
   },
   "outputs": [
    {
     "output_type": "stream",
     "name": "stdout",
     "text": "[installation]\nlibrary = %(prefix)s/lib\ninclude = %(prefix)s/include\nbin = %(prefix)s/bin\nprefix = /usr/local\n\n[debug]\nlog_errors = true\nshow_warnings = False\n\n[server]\nport = 9000\nnworkers = 32\npid-file = /tmp/spam.pid\nroot = /www/root\nsignature = \n\t=================================\n\tC          H         U          N\n\t=================================\n\n"
    }
   ],
   "source": [
    "import sys\n",
    "cfg.write(sys.stdout)"
   ]
  },
  {
   "cell_type": "markdown",
   "metadata": {},
   "source": [
    "## 给简单脚本增加日志功能"
   ]
  },
  {
   "cell_type": "code",
   "execution_count": 13,
   "metadata": {},
   "outputs": [],
   "source": [
    "import logging\n",
    "\n",
    "logging.basicConfig(\n",
    "    filename='data/app.log',\n",
    "    level=logging.ERROR,\n",
    "    format='%(levelname)s:%(asctime)s:%(message)s'\n",
    ")\n",
    "\n",
    "hostname = 'www.python.org'\n",
    "item = 'spam'\n",
    "filename = 'data.csv'\n",
    "mode = 'r'\n",
    "\n",
    "logging.critical('Host %s unknown', hostname)\n",
    "logging.error(\"Couldn't find %r\", item)\n",
    "logging.warning('Feature is deprecated')\n",
    "logging.info('Opening file %r, mode=%r', filename, mode)\n",
    "logging.debug('Got here')"
   ]
  },
  {
   "cell_type": "markdown",
   "metadata": {},
   "source": [
    "## 给函数库增加日志功能"
   ]
  },
  {
   "cell_type": "code",
   "execution_count": 14,
   "metadata": {},
   "outputs": [],
   "source": [
    "import logging\n",
    "\n",
    "log = logging.getLogger(__name__)\n",
    "log.addHandler(logging.NullHandler())\n",
    "\n",
    "def func():\n",
    "    log.critical('A Critical Error!')\n",
    "    log.debug('A debug message')"
   ]
  },
  {
   "cell_type": "markdown",
   "metadata": {},
   "source": [
    "## 实现一个计时器"
   ]
  },
  {
   "cell_type": "code",
   "execution_count": 15,
   "metadata": {},
   "outputs": [],
   "source": [
    "import time\n",
    "class Timer:\n",
    "    def __init__(self, func=time.perf_counter):\n",
    "        self.elapsed = 0.0\n",
    "        self._func = func\n",
    "        self._start = None\n",
    "    \n",
    "    def start(self):\n",
    "        if self._start is not None:\n",
    "            raise RuntimeError('Already started')\n",
    "        self._start = self._func()\n",
    "    \n",
    "    def stop(self):\n",
    "        if self._start is None:\n",
    "            raise RuntimeError('Not started')\n",
    "        end = self._func()\n",
    "        self.elapsed += end - self._start\n",
    "        self._start = None\n",
    "    \n",
    "    def reset(self):\n",
    "        self.elapsed = 0.0\n",
    "    \n",
    "    @property\n",
    "    def running(self):\n",
    "        return self._start is not None\n",
    "    \n",
    "    def __enter__(self):\n",
    "        self.start()\n",
    "        return self\n",
    "    \n",
    "    def __exit__(self, *args):\n",
    "        self.stop()"
   ]
  },
  {
   "cell_type": "code",
   "execution_count": 16,
   "metadata": {
    "tags": []
   },
   "outputs": [
    {
     "output_type": "stream",
     "name": "stdout",
     "text": "0.015008200000000471\n0.015443499999999943\n"
    }
   ],
   "source": [
    "def countdown(n):\n",
    "    while n > 0:\n",
    "        n -= 1\n",
    "\n",
    "t = Timer()\n",
    "t.start()\n",
    "countdown(100000)\n",
    "t.stop()\n",
    "print(t.elapsed)\n",
    "\n",
    "with Timer() as t2:\n",
    "    countdown(100000)\n",
    "print(t2.elapsed)"
   ]
  },
  {
   "cell_type": "markdown",
   "metadata": {},
   "source": [
    "## 限制内存和 CPU 的使用量"
   ]
  },
  {
   "cell_type": "code",
   "execution_count": 17,
   "metadata": {},
   "outputs": [],
   "source": [
    "# import signal\n",
    "# import resource\n",
    "# import os\n",
    "# def time_exceeded(signo, frame):\n",
    "#     print(\"Time's up!\")\n",
    "#     raise SystemExit(1)\n",
    "\n",
    "# def set_max_runtime(seconds):\n",
    "#     soft, hard = resource.getrlimit(resource.RLIMIT_CPU)\n",
    "#     resource.setrlimit(resource.RLIMIT_CPU, (seconds, hard))\n",
    "#     signal.signal(signal.SIGXCPU, time_exceeded)\n",
    "\n",
    "# set_max_runtime(5)\n",
    "# while True:\n",
    "#     pass"
   ]
  },
  {
   "cell_type": "markdown",
   "metadata": {},
   "source": [
    "## 启动一个 WEB 浏览器"
   ]
  },
  {
   "cell_type": "code",
   "execution_count": 18,
   "metadata": {},
   "outputs": [
    {
     "output_type": "execute_result",
     "data": {
      "text/plain": "True"
     },
     "metadata": {},
     "execution_count": 18
    }
   ],
   "source": [
    "import webbrowser\n",
    "\n",
    "webbrowser.open('http://www.python.org')"
   ]
  }
 ]
}