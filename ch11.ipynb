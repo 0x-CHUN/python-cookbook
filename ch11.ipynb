{
 "metadata": {
  "language_info": {
   "codemirror_mode": {
    "name": "ipython",
    "version": 3
   },
   "file_extension": ".py",
   "mimetype": "text/x-python",
   "name": "python",
   "nbconvert_exporter": "python",
   "pygments_lexer": "ipython3",
   "version": "3.7.3-final"
  },
  "orig_nbformat": 2,
  "kernelspec": {
   "name": "python3",
   "display_name": "Python 3"
  }
 },
 "nbformat": 4,
 "nbformat_minor": 2,
 "cells": [
  {
   "cell_type": "markdown",
   "metadata": {},
   "source": [
    "# 网络与Web编程"
   ]
  },
  {
   "cell_type": "markdown",
   "metadata": {},
   "source": [
    "## 作为客户端与HTTP服务交互"
   ]
  },
  {
   "cell_type": "code",
   "execution_count": 1,
   "metadata": {
    "tags": []
   },
   "outputs": [
    {
     "output_type": "stream",
     "name": "stdout",
     "text": "b'{\\n  \"args\": {\\n    \"name1\": \"value1\", \\n    \"name2\": \"value2\"\\n  }, \\n  \"headers\": {\\n    \"Accept-Encoding\": \"identity\", \\n    \"Host\": \"httpbin.org\", \\n    \"User-Agent\": \"Python-urllib/3.7\", \\n    \"X-Amzn-Trace-Id\": \"Root=1-5f195656-0f78b9369704a144257920d0\"\\n  }, \\n  \"origin\": \"223.157.191.62\", \\n  \"url\": \"http://httpbin.org/get?name1=value1&name2=value2\"\\n}\\n'\n"
    }
   ],
   "source": [
    "from urllib import request, parse\n",
    "\n",
    "url = 'http://httpbin.org/get'\n",
    "\n",
    "parms = {\n",
    "    'name1' : 'value1',\n",
    "    'name2' : 'value2'\n",
    "}\n",
    "\n",
    "querystring = parse.urlencode(parms)\n",
    "\n",
    "u = request.urlopen(url+'?'+querystring)\n",
    "resp = u.read()\n",
    "print(resp)"
   ]
  },
  {
   "cell_type": "code",
   "execution_count": 2,
   "metadata": {
    "tags": []
   },
   "outputs": [
    {
     "output_type": "stream",
     "name": "stdout",
     "text": "b'{\\n  \"args\": {}, \\n  \"data\": \"\", \\n  \"files\": {}, \\n  \"form\": {\\n    \"name1\": \"value1\", \\n    \"name2\": \"value2\"\\n  }, \\n  \"headers\": {\\n    \"Accept-Encoding\": \"identity\", \\n    \"Content-Length\": \"25\", \\n    \"Content-Type\": \"application/x-www-form-urlencoded\", \\n    \"Host\": \"httpbin.org\", \\n    \"User-Agent\": \"Python-urllib/3.7\", \\n    \"X-Amzn-Trace-Id\": \"Root=1-5f195657-eb411bac6b498e8acbd28e28\"\\n  }, \\n  \"json\": null, \\n  \"origin\": \"223.157.191.62\", \\n  \"url\": \"http://httpbin.org/post\"\\n}\\n'\n"
    }
   ],
   "source": [
    "from urllib import request, parse\n",
    "\n",
    "url = 'http://httpbin.org/post'\n",
    "\n",
    "parms = {\n",
    "    'name1' : 'value1',\n",
    "    'name2' : 'value2'\n",
    "}\n",
    "\n",
    "\n",
    "querystring = parse.urlencode(parms)\n",
    "u = request.urlopen(url, querystring.encode('ascii'))\n",
    "resp = u.read()\n",
    "print(resp)"
   ]
  },
  {
   "cell_type": "code",
   "execution_count": 3,
   "metadata": {
    "tags": []
   },
   "outputs": [
    {
     "output_type": "stream",
     "name": "stdout",
     "text": "b'{\\n  \"args\": {}, \\n  \"data\": \"\", \\n  \"files\": {}, \\n  \"form\": {\\n    \"name1\": \"value1\", \\n    \"name2\": \"value2\"\\n  }, \\n  \"headers\": {\\n    \"Accept-Encoding\": \"identity\", \\n    \"Content-Length\": \"25\", \\n    \"Content-Type\": \"application/x-www-form-urlencoded\", \\n    \"Host\": \"httpbin.org\", \\n    \"Spam\": \"Eggs\", \\n    \"User-Agent\": \"none/ofyourbusiness\", \\n    \"X-Amzn-Trace-Id\": \"Root=1-5f195657-3177fa07ff52831ca285e959\"\\n  }, \\n  \"json\": null, \\n  \"origin\": \"223.157.191.62\", \\n  \"url\": \"http://httpbin.org/post\"\\n}\\n'\n"
    }
   ],
   "source": [
    "from urllib import request, parse\n",
    "\n",
    "url = 'http://httpbin.org/post'\n",
    "\n",
    "parms = {\n",
    "    'name1' : 'value1',\n",
    "    'name2' : 'value2'\n",
    "}\n",
    "\n",
    "headers = {\n",
    "    'User-agent' : 'none/ofyourbusiness',\n",
    "    'Spam' : 'Eggs'\n",
    "}\n",
    "\n",
    "\n",
    "querystring = parse.urlencode(parms)\n",
    "req = request.Request(url, querystring.encode('ascii'), headers=headers)\n",
    "u = request.urlopen(req)\n",
    "resp = u.read()\n",
    "print(resp)"
   ]
  },
  {
   "cell_type": "code",
   "execution_count": 4,
   "metadata": {
    "tags": []
   },
   "outputs": [
    {
     "output_type": "stream",
     "name": "stdout",
     "text": "{\n  \"args\": {}, \n  \"data\": \"\", \n  \"files\": {}, \n  \"form\": {\n    \"name1\": \"value1\", \n    \"name2\": \"value2\"\n  }, \n  \"headers\": {\n    \"Accept\": \"*/*\", \n    \"Accept-Encoding\": \"gzip, deflate\", \n    \"Content-Length\": \"25\", \n    \"Content-Type\": \"application/x-www-form-urlencoded\", \n    \"Host\": \"httpbin.org\", \n    \"Spam\": \"Eggs\", \n    \"User-Agent\": \"none/ofyourbusiness\", \n    \"X-Amzn-Trace-Id\": \"Root=1-5f195659-857f99a48e6b345d2758e0dd\"\n  }, \n  \"json\": null, \n  \"origin\": \"223.157.191.62\", \n  \"url\": \"http://httpbin.org/post\"\n}\n\n200\napplication/json\n"
    }
   ],
   "source": [
    "import requests\n",
    "\n",
    "url = 'http://httpbin.org/post'\n",
    "\n",
    "parms = {\n",
    "    'name1' : 'value1',\n",
    "    'name2' : 'value2'\n",
    "}\n",
    "\n",
    "headers = {\n",
    "    'User-agent' : 'none/ofyourbusiness',\n",
    "    'Spam' : 'Eggs'\n",
    "}\n",
    "\n",
    "resp = requests.post(url, data=parms, headers = headers)\n",
    "print(resp.text)\n",
    "print(resp.status_code)\n",
    "print(resp.headers['content-type'])"
   ]
  },
  {
   "cell_type": "markdown",
   "metadata": {},
   "source": [
    "## 创建TCP服务器"
   ]
  },
  {
   "cell_type": "code",
   "execution_count": 5,
   "metadata": {},
   "outputs": [],
   "source": [
    "from socketserver import BaseRequestHandler, TCPServer\n",
    "\n",
    "class EchoHandler(BaseRequestHandler):\n",
    "    def handle(self):\n",
    "        print('Got connection from', self.client_address)\n",
    "        while True:\n",
    "            msg = self.request.recv(8192)\n",
    "            if not msg:\n",
    "                break\n",
    "            self.request.send(msg)\n",
    "\n",
    "# serv = TCPServer(('', 20000), EchoHandler)\n",
    "# serv.serve_forever()"
   ]
  },
  {
   "cell_type": "markdown",
   "metadata": {},
   "source": [
    "## 创建UDP服务器"
   ]
  },
  {
   "cell_type": "code",
   "execution_count": 6,
   "metadata": {},
   "outputs": [],
   "source": [
    "from socketserver import BaseRequestHandler, UDPServer\n",
    "import time\n",
    "\n",
    "class TimeHandler(BaseRequestHandler):\n",
    "    def handle(self):\n",
    "        print('Got connection from', self.client_address)\n",
    "        msg, sock = self.request\n",
    "        resp = time.ctime()\n",
    "        sock.sendto(resp.encode('ascii'), self.client_address)\n",
    "\n",
    "# serv = UDPServer(('', 20000), TimeHandler)\n",
    "# serv.serve_forever()"
   ]
  },
  {
   "cell_type": "markdown",
   "metadata": {},
   "source": [
    "## 通过CIDR地址生成对应的IP地址集"
   ]
  },
  {
   "cell_type": "code",
   "execution_count": 7,
   "metadata": {
    "tags": []
   },
   "outputs": [
    {
     "output_type": "stream",
     "name": "stdout",
     "text": "16\n123.45.67.64\n123.45.67.65\n123.45.67.66\n123.45.67.67\n123.45.67.68\n123.45.67.69\n123.45.67.70\n123.45.67.71\n123.45.67.72\n123.45.67.73\n123.45.67.74\n123.45.67.75\n123.45.67.76\n123.45.67.77\n123.45.67.78\n123.45.67.79\n"
    }
   ],
   "source": [
    "import ipaddress\n",
    "\n",
    "net = ipaddress.ip_network('123.45.67.64/28')\n",
    "print(net.num_addresses)\n",
    "for n in net:\n",
    "    print(n)"
   ]
  },
  {
   "cell_type": "code",
   "execution_count": 8,
   "metadata": {
    "tags": []
   },
   "outputs": [
    {
     "output_type": "stream",
     "name": "stdout",
     "text": "8\n12:3456:78:90ab:cd:ef01:23:30\n12:3456:78:90ab:cd:ef01:23:31\n12:3456:78:90ab:cd:ef01:23:32\n12:3456:78:90ab:cd:ef01:23:33\n12:3456:78:90ab:cd:ef01:23:34\n12:3456:78:90ab:cd:ef01:23:35\n12:3456:78:90ab:cd:ef01:23:36\n12:3456:78:90ab:cd:ef01:23:37\n"
    }
   ],
   "source": [
    "net6 = ipaddress.ip_network('12:3456:78:90ab:cd:ef01:23:30/125')\n",
    "print(net6.num_addresses)\n",
    "for n in net6:\n",
    "    print(n)"
   ]
  },
  {
   "cell_type": "markdown",
   "metadata": {},
   "source": [
    "## 创建一个简单的REST接口"
   ]
  },
  {
   "cell_type": "code",
   "execution_count": 9,
   "metadata": {},
   "outputs": [],
   "source": [
    "import cgi\n",
    "\n",
    "def notfound_404(environ, start_response):\n",
    "    start_response('404 Not Found', [('Content-type', 'text/plain')])\n",
    "    return [b'Not Found']\n",
    "\n",
    "class PathDispatcher:\n",
    "    def __init__(self):\n",
    "        self.pathmap = {}\n",
    "\n",
    "    def __call__(self, environ, start_response):\n",
    "        path = environ['PATH_INFO']\n",
    "        parms = cgi.FieldStorage(environ['wsgi.input'], environ=environ)\n",
    "        method = environ['REQUEST_METHOD'].lower()\n",
    "        environ['params'] = {key : parms.getvalue(key) for key in parms}\n",
    "        handler = self.pathmap.get((method, path), notfound_404)\n",
    "        return handler(environ, start_response)\n",
    "\n",
    "    def register(self, method, path, function):\n",
    "        self.pathmap[method.lower(), path] = function\n",
    "        return function"
   ]
  },
  {
   "cell_type": "code",
   "execution_count": 10,
   "metadata": {},
   "outputs": [],
   "source": [
    "import time\n",
    "\n",
    "_hello_resp = '''\\\n",
    "<html>\n",
    "    <head>\n",
    "        <title>Hello {name}</title></head>\n",
    "    <body>\n",
    "        <h1>Hello {name}!</h1>\n",
    "    </body>\n",
    "</html>'''\n",
    "\n",
    "def hello_world(environ, start_response):\n",
    "    start_response('200 OK', [('Content-type', 'text/html')])\n",
    "    parms = environ['params']\n",
    "    resp = _hello_resp.format(name=parms.get('name'))\n",
    "    yield resp.encode('utf-8')\n",
    "\n",
    "_localtime_resp = '''\\\n",
    "<?xml version=\"1.0\"?>\n",
    "<time>\n",
    "    <year>{t.tm_year}</year>\n",
    "    <month>{t.tm_mon}</month>\n",
    "    <day>{t.tm_mday}</day>\n",
    "    <hour>{t.tm_hour}</hour>\n",
    "    <minute>{t.tm_min}</minute>\n",
    "    <second>{t.tm_sec}</second>\n",
    "</time>'''\n",
    "\n",
    "def localtime(environ, start_response):\n",
    "    start_response('200 OK', [ ('Content-type', 'application/xml') ])\n",
    "    resp = _localtime_resp.format(t=time.localtime())\n",
    "    yield resp.encode('utf-8')"
   ]
  },
  {
   "cell_type": "code",
   "execution_count": 11,
   "metadata": {},
   "outputs": [],
   "source": [
    "# from wsgiref.simple_server import make_server\n",
    "# # Create the dispatcher and register functions\n",
    "# dispatcher = PathDispatcher()\n",
    "# dispatcher.register('GET', '/hello', hello_world)\n",
    "# dispatcher.register('GET', '/localtime', localtime)\n",
    "# # Launch a basic server\n",
    "# httpd = make_server('', 8080, dispatcher)\n",
    "# print('Serving on port 8080...')\n",
    "# httpd.serve_forever()"
   ]
  },
  {
   "cell_type": "markdown",
   "metadata": {},
   "source": [
    "## 通过 XML-RPC 实现简单的远程调用"
   ]
  },
  {
   "cell_type": "code",
   "execution_count": 12,
   "metadata": {},
   "outputs": [],
   "source": [
    "from xmlrpc.server import SimpleXMLRPCServer\n",
    "class KeyValueServer:\n",
    "    _rpc_methods_ = ['get', 'set', 'delete', 'exists', 'keys']\n",
    "    def __init__(self, address):\n",
    "        self._data = {}\n",
    "        self._serv = SimpleXMLRPCServer(address, allow_none=True)\n",
    "        for name in self._rpc_methods_:\n",
    "            self._serv.register_function(getattr(self, name))\n",
    "    \n",
    "    def get(self, name):\n",
    "        return self._data[name]\n",
    "    \n",
    "    def set(self, name, value):\n",
    "        self._data[name] = value\n",
    "    \n",
    "    def delete(self, name):\n",
    "        del self._data[name]\n",
    "    \n",
    "    def exists(self, name):\n",
    "        return name in self._data\n",
    "    \n",
    "    def keys(self):\n",
    "        return list(self._data)\n",
    "    \n",
    "    def serve_forever(self):\n",
    "        self._serv.serve_forever()\n",
    "\n",
    "# Example\n",
    "# if __name__ == '__main__':\n",
    "# kvserv = KeyValueServer(('', 15000))\n",
    "# kvserv.serve_forever()"
   ]
  },
  {
   "cell_type": "markdown",
   "metadata": {},
   "source": [
    "## 在不同的 Python 解释器之间交互"
   ]
  },
  {
   "cell_type": "code",
   "execution_count": 13,
   "metadata": {},
   "outputs": [],
   "source": [
    "from multiprocessing.connection import Listener\n",
    "import traceback\n",
    "\n",
    "def echo_client(conn):\n",
    "    try:\n",
    "        while True:\n",
    "            msg = conn.recv()\n",
    "            conn.send(msg)\n",
    "    except EOFError:\n",
    "        print('Connection closed')\n",
    "\n",
    "def echo_server(address, authkey):\n",
    "    serv = Listener(address, authkey=authkey)\n",
    "    while True:\n",
    "        try:\n",
    "            client = serv.accept()\n",
    "            echo_client(client)\n",
    "        except Exception:\n",
    "            traceback.print_exc()\n",
    "# echo_server(('', 25000), authkey=b'peekaboo')"
   ]
  },
  {
   "cell_type": "markdown",
   "metadata": {},
   "source": [
    "## 实现远程方法调用"
   ]
  },
  {
   "cell_type": "code",
   "execution_count": 14,
   "metadata": {},
   "outputs": [],
   "source": [
    "import pickle\n",
    "\n",
    "class RPCHandler:\n",
    "    def __init__(self):\n",
    "        self._functions = {}\n",
    "        \n",
    "    def register_function(self, func):\n",
    "        self._functions[func.__name__] = func\n",
    "        \n",
    "    def handle_connection(self, connection):\n",
    "        try:\n",
    "            while True:\n",
    "                func_name, args, kwargs = pickle.loads(connection.recv())\n",
    "                try:\n",
    "                    r = self._functions[func_name](*args,**kwargs)\n",
    "                    connection.send(pickle.dumps(r))\n",
    "                except Exception as e:\n",
    "                        connection.send(pickle.dumps(e))\n",
    "        except EOFError:\n",
    "            pass"
   ]
  },
  {
   "cell_type": "code",
   "execution_count": 15,
   "metadata": {},
   "outputs": [],
   "source": [
    "from multiprocessing.connection import Listener\n",
    "from threading import Thread\n",
    "\n",
    "def rpc_server(handler, address, authkey):\n",
    "    sock = Listener(address, authkey=authkey)\n",
    "    while True:\n",
    "        client = sock.accept()\n",
    "        t = Thread(target=handler.handle_connection, args=(client,))\n",
    "        t.daemon = True\n",
    "        t.start()\n",
    "\n",
    "def add(x, y):\n",
    "    return x + y\n",
    "\n",
    "def sub(x, y):\n",
    "    return x - y"
   ]
  },
  {
   "cell_type": "code",
   "execution_count": 16,
   "metadata": {},
   "outputs": [],
   "source": [
    "handler = RPCHandler()\n",
    "handler.register_function(add)\n",
    "handler.register_function(sub)\n",
    "# Run the server\n",
    "# rpc_server(handler, ('localhost', 17000), authkey=b'peekaboo')"
   ]
  },
  {
   "cell_type": "code",
   "execution_count": 17,
   "metadata": {},
   "outputs": [],
   "source": [
    "import pickle\n",
    "class RPCProxy:\n",
    "    def __init__(self, connection):\n",
    "        self._connection = connection\n",
    "    def __getattr__(self, name):\n",
    "        def do_rpc(*args, **kwargs):\n",
    "            self._connection.send(pickle.dumps((name, args, kwargs)))\n",
    "            result = pickle.loads(self._connection.recv())\n",
    "            if isinstance(result, Exception):\n",
    "                raise result\n",
    "            return result\n",
    "        return do_rpc"
   ]
  },
  {
   "cell_type": "code",
   "execution_count": 18,
   "metadata": {},
   "outputs": [],
   "source": [
    "from multiprocessing.connection import Client\n",
    "\n",
    "# c =  Client(('localhost', 17000), authkey=b'peekaboo')\n",
    "# proxy = RPCProxy(c)\n",
    "# proxy.add(2, 3)"
   ]
  },
  {
   "cell_type": "markdown",
   "metadata": {},
   "source": [
    "## 简单的客户端认证"
   ]
  },
  {
   "cell_type": "code",
   "execution_count": 19,
   "metadata": {},
   "outputs": [],
   "source": [
    "import hmac\n",
    "import os\n",
    "\n",
    "def client_authenticate(connection, secret_key):\n",
    "    '''\n",
    "    Authenticate client to a remote service.\n",
    "    connection represents a network connection.\n",
    "    secret_key is a key known only to both client/server.\n",
    "    '''\n",
    "    message = connection.recv(32)\n",
    "    hash = hmac.new(secret_key, message)\n",
    "    digest = hash.digest()\n",
    "    connection.send(digest)\n",
    "\n",
    "def server_authenticate(connection, secret_key):\n",
    "    '''\n",
    "    Request client authentication.\n",
    "    '''\n",
    "    message = os.urandom(32)\n",
    "    connection.send(message)\n",
    "    hash = hmac.new(secret_key, message)\n",
    "    digest = hash.digest()\n",
    "    response = connection.recv(len(digest))\n",
    "    return hmac.compare_digest(digest,response)"
   ]
  },
  {
   "cell_type": "code",
   "execution_count": 20,
   "metadata": {},
   "outputs": [],
   "source": [
    "from socket import socket, AF_INET, SOCK_STREAM\n",
    "\n",
    "secret_key = b'peekaboo'\n",
    "\n",
    "def echo_handler(client_sock):\n",
    "    if not server_authenticate(client_sock, secret_key):\n",
    "        client_sock.close()\n",
    "        return\n",
    "    while True:\n",
    "        msg = client_sock.recv(8192)\n",
    "        if not msg:\n",
    "            break\n",
    "        client_sock.sendall(msg)\n",
    "\n",
    "def echo_server(address):\n",
    "    s = socket(AF_INET, SOCK_STREAM)\n",
    "    s.bind(address)\n",
    "    s.listen(5)\n",
    "    while True:\n",
    "        c,a = s.accept()\n",
    "        echo_handler(c)\n",
    "\n",
    "# server\n",
    "# echo_server(('', 18000))\n",
    "\n",
    "# client\n",
    "# from socket import socket, AF_INET, SOCK_STREAM\n",
    "# \n",
    "# secret_key = b'peekaboo'\n",
    "# s = socket(AF_INET, SOCK_STREAM)\n",
    "# s.connect(('localhost', 18000))\n",
    "# client_authenticate(s, secret_key)\n",
    "# s.send(b'Hello World')\n",
    "# resp = s.recv(1024)"
   ]
  },
  {
   "cell_type": "markdown",
   "metadata": {},
   "source": [
    "## 在网络服务中加入 SSL"
   ]
  },
  {
   "cell_type": "code",
   "execution_count": 21,
   "metadata": {},
   "outputs": [],
   "source": [
    "from socket import socket, AF_INET, SOCK_STREAM\n",
    "import ssl\n",
    "\n",
    "KEYFILE = 'server_key.pem'\n",
    "# Private key of the server\n",
    "CERTFILE = 'server_cert.pem' # Server certificate (given to client)\n",
    "\n",
    "def echo_client(s):\n",
    "    while True:\n",
    "        data = s.recv(8192)\n",
    "        if data == b'':\n",
    "            break\n",
    "        s.send(data)\n",
    "    s.close()\n",
    "    print('Connection closed')\n",
    "\n",
    "def echo_server(address):\n",
    "    s = socket(AF_INET, SOCK_STREAM)\n",
    "    s.bind(address)\n",
    "    s.listen(1)\n",
    "    # Wrap with an SSL layer requiring client certs\n",
    "    s_ssl = ssl.wrap_socket(s,\n",
    "                            keyfile=KEYFILE,\n",
    "                            certfile=CERTFILE,\n",
    "                            server_side=True\n",
    "                            )\n",
    "    # Wait for connections\n",
    "    while True:\n",
    "        try:\n",
    "            c,a = s_ssl.accept()\n",
    "            print('Got connection', c, a)\n",
    "            echo_client(c)\n",
    "        except Exception as e:\n",
    "            print('{}: {}'.format(e.__class__.__name__, e))\n",
    "\n",
    "# server\n",
    "# echo_server(('', 20000))"
   ]
  },
  {
   "cell_type": "code",
   "execution_count": 22,
   "metadata": {},
   "outputs": [],
   "source": [
    "# from socket import socket, AF_INET, SOCK_STREAM\n",
    "# import ssl\n",
    "\n",
    "# s = socket(AF_INET, SOCK_STREAM)\n",
    "# s_ssl = ssl.wrap_socket(s,\n",
    "#                         cert_reqs=ssl.CERT_REQUIRED,\n",
    "#                         ca_certs = 'server_cert.pem')\n",
    "# s_ssl.connect(('localhost', 20000))\n",
    "# s_ssl.send(b'Hello World?')\n",
    "# s_ssl.recv(8192)"
   ]
  },
  {
   "cell_type": "markdown",
   "metadata": {},
   "source": [
    "## 进程间传递 Socket 文件描述符"
   ]
  },
  {
   "cell_type": "code",
   "execution_count": 23,
   "metadata": {},
   "outputs": [],
   "source": [
    "import multiprocessing\n",
    "from multiprocessing.reduction import recv_handle, send_handle\n",
    "import socket\n",
    "\n",
    "\n",
    "def worker(in_p, out_p):\n",
    "    out_p.close()\n",
    "    while True:\n",
    "        fd = recv_handle(in_p)\n",
    "        print('CHILD: GOT FD', fd)\n",
    "        with socket.socket(socket.AF_INET, socket.SOCK_STREAM, fileno=fd) as s:\n",
    "            while True:\n",
    "                msg = s.recv(1024)\n",
    "                if not msg:\n",
    "                    break\n",
    "                print('CHILD: RECV {!r}'.format(msg))\n",
    "                s.send(msg)\n",
    "\n",
    "def server(address, in_p, out_p, worker_pid):\n",
    "    in_p.close()\n",
    "    s = socket.socket(socket.AF_INET, socket.SOCK_STREAM)\n",
    "    s.setsockopt(socket.SOL_SOCKET, socket.SO_REUSEADDR, True)\n",
    "    s.bind(address)\n",
    "    s.listen(1)\n",
    "    while True:\n",
    "        client, addr = s.accept()\n",
    "        print('SERVER: Got connection from', addr)\n",
    "        send_handle(out_p, client.fileno(), worker_pid)\n",
    "        client.close()"
   ]
  },
  {
   "cell_type": "code",
   "execution_count": 24,
   "metadata": {},
   "outputs": [],
   "source": [
    "# c1, c2 = multiprocessing.Pipe()\n",
    "# worker_p = multiprocessing.Process(target=worker, args=(c1,c2))\n",
    "# worker_p.start()\n",
    "# server_p = multiprocessing.Process(target=server,\n",
    "# args=(('', 15000), c1, c2, worker_p.pid))\n",
    "# server_p.start()\n",
    "# c1.close()\n",
    "# c2.close()"
   ]
  },
  {
   "cell_type": "markdown",
   "metadata": {},
   "source": [
    "## 理解事件驱动的 IO"
   ]
  },
  {
   "cell_type": "code",
   "execution_count": 25,
   "metadata": {},
   "outputs": [],
   "source": [
    "class EventHandler:\n",
    "    def fileno(self):\n",
    "        'Return the associated file descriptor'\n",
    "        raise NotImplemented('must implement')\n",
    "    \n",
    "    def wants_to_receive(self):\n",
    "        'Return True if receiving is allowed'\n",
    "        return False\n",
    "    \n",
    "    def handle_receive(self):\n",
    "        'Perform the receive operation'\n",
    "        pass\n",
    "    \n",
    "    def wants_to_send(self):\n",
    "        'Return True if sending is requested'\n",
    "        return False\n",
    "    \n",
    "    def handle_send(self):\n",
    "        'Send outgoing data'\n",
    "        pass"
   ]
  },
  {
   "cell_type": "code",
   "execution_count": 26,
   "metadata": {},
   "outputs": [],
   "source": [
    "import select\n",
    "\n",
    "def event_loop(handlers):\n",
    "    while True:\n",
    "        wants_recv = [h for h in handlers if h.wants_to_receive()]\n",
    "        wants_send = [h for h in handlers if h.wants_to_send()]\n",
    "        can_recv, can_send, _ = select.select(wants_recv, wants_send, [])\n",
    "        for h in can_recv:\n",
    "            h.handle_receive()\n",
    "        for h in can_send:\n",
    "            h.handle_send()"
   ]
  },
  {
   "cell_type": "markdown",
   "metadata": {},
   "source": [
    "## 发送与接收大型数组"
   ]
  },
  {
   "cell_type": "code",
   "execution_count": 27,
   "metadata": {},
   "outputs": [],
   "source": [
    "def send_from(arr, dest):\n",
    "    view = memoryview(arr).cast('B')\n",
    "    while len(view):\n",
    "        nsent = dest.send(view)\n",
    "        view = view[nsent:]\n",
    "\n",
    "def recv_into(arr, source):\n",
    "    view = memoryview(arr).cast('B')\n",
    "    while len(view):\n",
    "        nrecv = source.recv_into(view)\n",
    "        view = view[nrecv:]"
   ]
  }
 ]
}