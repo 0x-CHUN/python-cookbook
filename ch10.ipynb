{
 "metadata": {
  "language_info": {
   "codemirror_mode": {
    "name": "ipython",
    "version": 3
   },
   "file_extension": ".py",
   "mimetype": "text/x-python",
   "name": "python",
   "nbconvert_exporter": "python",
   "pygments_lexer": "ipython3",
   "version": 3
  },
  "orig_nbformat": 2,
  "kernelspec": {
   "name": "python_defaultSpec_1595400463696",
   "display_name": "Python 3.7.3 64-bit ('base': conda)"
  }
 },
 "nbformat": 4,
 "nbformat_minor": 2,
 "cells": [
  {
   "cell_type": "markdown",
   "metadata": {},
   "source": [
    "# 模块与包"
   ]
  },
  {
   "cell_type": "markdown",
   "metadata": {},
   "source": [
    "## 构建一个模块的层级包\n",
    "\n",
    "包结构：\n",
    "\n",
    "```\n",
    "graphics/\n",
    "    __init__.py\n",
    "    primitive/\n",
    "        __init__.py\n",
    "        line.py\n",
    "        fill.py\n",
    "        text.py\n",
    "    formats/\n",
    "        __init__.py\n",
    "        png.py\n",
    "        jpg.py\n",
    "```\n",
    "\n",
    "__init__.py文件用来自动加载子模块\n",
    "\n",
    "则对应的使用方法：\n",
    "\n",
    "```python\n",
    "import graphics.primitive.line\n",
    "from graphics.primitive import line\n",
    "import graphics.formats.jpg as jpg\n",
    "```"
   ]
  },
  {
   "cell_type": "markdown",
   "metadata": {},
   "source": [
    "## 控制模块被全部导入的内容\n",
    "\n",
    "当使用`from module import *`语句时，可以定义一个变量__all__来明确地列出需要导出地内容"
   ]
  },
  {
   "cell_type": "code",
   "execution_count": 1,
   "metadata": {},
   "outputs": [],
   "source": [
    "# 一个py文件内\n",
    "\n",
    "def spam():\n",
    "    pass\n",
    "\n",
    "def grok():\n",
    "    pass\n",
    "\n",
    "# 只能导出spam和grok\n",
    "__all__ = ['spam', 'gork']"
   ]
  },
  {
   "cell_type": "markdown",
   "metadata": {},
   "source": [
    "## 使用相对路径名导入包中子模块\n",
    "\n",
    "文件结构：\n",
    "\n",
    "```\n",
    "mypackage/\n",
    "    __init__.py\n",
    "    A/\n",
    "        __init__.py\n",
    "        spam.py\n",
    "        grok.py\n",
    "    B/\n",
    "        __init__.py\n",
    "        bar.py\n",
    "```\n",
    "\n",
    "如果模块 mypackage.A.spam 要导入同目录下的模块 grok，它应该包括的 import语句如下：\n",
    "\n",
    "```python\n",
    "from . import grok\n",
    "```\n",
    "\n",
    "如果模块 mypackage.A.spam 要导入不同目录下的模块 B.bar，它应该使用的import 语句如下：\n",
    "\n",
    "```python\n",
    "from ..B import bar\n",
    "```"
   ]
  },
  {
   "cell_type": "markdown",
   "metadata": {},
   "source": [
    "## 将模块分割成多个文件\n",
    "\n",
    "考虑下下面简单的模块：\n",
    "\n",
    "```python\n",
    "class A:\n",
    "    def spam(self):\n",
    "        print('A.spam')\n",
    "class B(A):\n",
    "    def bar(self):\n",
    "        print('B.bar')\n",
    "```\n",
    "\n",
    "分割成：\n",
    "\n",
    "```\n",
    "mymodule/\n",
    "    __init__.py\n",
    "    a.py\n",
    "    b.py\n",
    "```\n",
    "\n",
    "其中a.py：\n",
    "\n",
    "```python\n",
    "class A:\n",
    "    def spam(self):\n",
    "        print('A.spam')\n",
    "```\n",
    "\n",
    "其中b.py：\n",
    "\n",
    "```python\n",
    "class B(A):\n",
    "    def bar(self):\n",
    "        print('B.bar')\n",
    "```\n",
    "\n",
    "最后，在 __init__.py 中，将 2 个文件粘合在一起：\n",
    "\n",
    "```python\n",
    "from .a import A\n",
    "from .b import B\n",
    "```\n",
    "\n",
    "所产生的包MyModule将作为一个单一的逻辑模块：\n",
    "\n",
    "```python\n",
    "import mymodule\n",
    "a = mymodule.A()\n",
    "b = mymodule.B()\n",
    "```"
   ]
  },
  {
   "cell_type": "markdown",
   "metadata": {},
   "source": [
    "## 利用命名空间导入目录分散的代码\n",
    "\n",
    "两个包：\n",
    "\n",
    "```\n",
    "foo-package/\n",
    "    spam/\n",
    "        blah.py\n",
    "bar-package/\n",
    "    spam/\n",
    "        grok.py\n",
    "```\n",
    "\n",
    "合并导入\n",
    "\n",
    "```python\n",
    "import sys\n",
    "sys.path.extend(['foo-package', 'bar-package'])\n",
    "import spam.blah\n",
    "import spam.grok\n",
    "```\n"
   ]
  },
  {
   "cell_type": "markdown",
   "metadata": {},
   "source": [
    "## 重新加载模块\n",
    "\n",
    "使用imp.read()来重新加载先前加载的模块：\n",
    "\n",
    "```python\n",
    "import spam # 修改过的py文件，重新加载\n",
    "import imp\n",
    "imp.reload(spam)\n",
    "```"
   ]
  },
  {
   "cell_type": "markdown",
   "metadata": {},
   "source": [
    "## 运行目录或压缩文件\n",
    "\n",
    "文件结构：\n",
    "\n",
    "```\n",
    "myapplication/\n",
    "    spam.py\n",
    "    bar.py\n",
    "    grok.py\n",
    "    __main__.py\n",
    "```\n",
    "\n",
    "目录下直接：\n",
    "\n",
    "```bash\n",
    "python3 myapplication\n",
    "```\n",
    "\n",
    "打包成zip文件\n",
    "\n",
    "```\n",
    "bash % ls\n",
    "spam.py bar.py grok.py __main__.py\n",
    "bash % zip -r myapp.zip *.py\n",
    "bash % python3 myapp.zip\n",
    "... output from __main__.py ...\n",
    "```"
   ]
  },
  {
   "cell_type": "markdown",
   "metadata": {},
   "source": [
    "## 读取位于包中的数据文件\n",
    "\n",
    "文件组织:\n",
    "\n",
    "```\n",
    "mypackage/\n",
    "    __init__.py\n",
    "    somedata.dat\n",
    "    spam.py\n",
    "```\n",
    "\n",
    "现在假设 spam.py 文件需要读取 somedata.dat 文件中的内容。可以用以下代码来完成：\n",
    "```python\n",
    "import pkgutil\n",
    "data = pkgutil.get_data(__package__, 'somedata.dat')\n",
    "```\n",
    "\n",
    "由此产生的变量是包含该文件的原始内容的字节字符串。"
   ]
  },
  {
   "cell_type": "markdown",
   "metadata": {},
   "source": [
    "## 将文件夹加入到 sys.path\n",
    "\n",
    "1. 使用 PYTHONPATH环境变量来添加\n",
    "2. 创建一个.pth 文件，将目录列举出来"
   ]
  },
  {
   "cell_type": "markdown",
   "metadata": {},
   "source": [
    "## 通过字符串名导入模块"
   ]
  },
  {
   "cell_type": "code",
   "execution_count": 2,
   "metadata": {
    "tags": []
   },
   "outputs": [
    {
     "output_type": "stream",
     "name": "stdout",
     "text": "0.9092974268256817\n"
    }
   ],
   "source": [
    "import importlib\n",
    "\n",
    "math = importlib.import_module('math')\n",
    "print(math.sin(2))"
   ]
  },
  {
   "cell_type": "markdown",
   "metadata": {},
   "source": [
    "## 通过钩子远程加载模块\n",
    "\n",
    "略"
   ]
  },
  {
   "cell_type": "markdown",
   "metadata": {},
   "source": [
    "## 导入模块的同时修改模块"
   ]
  },
  {
   "cell_type": "code",
   "execution_count": 3,
   "metadata": {},
   "outputs": [],
   "source": [
    "import importlib\n",
    "import sys\n",
    "from collections import defaultdict\n",
    "\n",
    "_post_import_hooks = defaultdict(list)\n",
    "\n",
    "class PostImportFinder:\n",
    "    def __init__(self):\n",
    "        self._skip = set()\n",
    "\n",
    "    def find_module(self, name, path=None):\n",
    "        if name in self._skip:\n",
    "            return None\n",
    "        self._skip.add(name)\n",
    "        return PostImportLoader(self)\n",
    "\n",
    "class PostImportLoader:\n",
    "    def __init__(self, finder):\n",
    "        self._finder = finder\n",
    "\n",
    "    def load_module(self, name):\n",
    "        importlib.import_module(name)\n",
    "        module = sys.modules[name]\n",
    "        for func in _post_import_hooks[name]:\n",
    "            func(module)\n",
    "        self._finder._skip.remove(name)\n",
    "        return module\n",
    "\n",
    "def when_imported(name):\n",
    "    def decorate(func):\n",
    "        if name in sys.modules:\n",
    "            func(sys.modules[name])\n",
    "        else:\n",
    "            _post_import_hooks[name].append(func)\n",
    "        return func\n",
    "    return decorate\n",
    "\n",
    "sys.meta_path.insert(0, PostImportFinder())"
   ]
  },
  {
   "cell_type": "code",
   "execution_count": 4,
   "metadata": {
    "tags": []
   },
   "outputs": [
    {
     "output_type": "stream",
     "name": "stdout",
     "text": "Threads? Are you crazy?\n"
    }
   ],
   "source": [
    "@when_imported('threading')\n",
    "def warn_thread(mod):\n",
    "    print('Threads? Are you crazy?')\n",
    "\n",
    "import threading"
   ]
  },
  {
   "cell_type": "markdown",
   "metadata": {},
   "source": [
    "## 安装私有的包\n",
    "\n",
    "pip install --user packagename"
   ]
  },
  {
   "cell_type": "markdown",
   "metadata": {},
   "source": [
    "## 创建新的 Python 环境\n",
    "\n",
    "使用pyvenv命令"
   ]
  },
  {
   "cell_type": "markdown",
   "metadata": {},
   "source": [
    "## 分发包\n",
    "\n",
    "典型的项目结构：\n",
    "\n",
    "```\n",
    "projectname/\n",
    "    README.txt\n",
    "    Doc/\n",
    "        documentation.txt\n",
    "    projectname/\n",
    "        __init__.py\n",
    "        foo.py\n",
    "        bar.py\n",
    "        utils/\n",
    "            __init__.py\n",
    "            spam.py\n",
    "            grok.py\n",
    "    examples/\n",
    "        helloworld.py\n",
    "```\n",
    "\n",
    "要让你的包可以发布出去，首先你要编写一个 setup.py ，类似下面这样：\n",
    "\n",
    "```python\n",
    "from distutils.core import setup\n",
    "\n",
    "setup(name='projectname',\n",
    "    version='1.0',\n",
    "    author='Your Name',\n",
    "    author_email='you@youraddress.com',\n",
    "    url='http://www.you.com/projectname',\n",
    "    packages=['projectname', 'projectname.utils'],\n",
    ")\n",
    "```\n",
    "\n",
    "下一步，就是创建一个 MANIFEST.in 文件，列出所有在你的包中需要包含进来的非源码文件：\n",
    "\n",
    "```\n",
    "# MANIFEST.in\n",
    "include *.txt\n",
    "recursive-include examples *\n",
    "recursive-include Doc *\n",
    "```\n",
    "\n",
    "确保 setup.py 和 MANIFEST.in 文件放在包的最顶级目录中,就可以像下面这样执行命令来创建一个源码分发包了：\n",
    "\n",
    "```\n",
    "python3 setup.py sdist\n",
    "```\n",
    "\n",
    "它会创建一个文件比如”projectname-1.0.zip”或“projectname-1.0.tar.gz”, 具体依赖于你的系统平台。如果一切正常，这个文件就可以发送给别人使用或者上传至Python Package Index."
   ]
  }
 ]
}