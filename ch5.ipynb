{
 "cells": [
  {
   "cell_type": "markdown",
   "metadata": {},
   "source": [
    "# 文件与IO"
   ]
  },
  {
   "cell_type": "markdown",
   "metadata": {},
   "source": [
    "## 读写文本数据"
   ]
  },
  {
   "cell_type": "code",
   "execution_count": 1,
   "metadata": {
    "tags": []
   },
   "outputs": [
    {
     "output_type": "stream",
     "name": "stdout",
     "text": "a\nb\nc\n"
    }
   ],
   "source": [
    "with open('data/somefile.txt', 'wt') as f:\n",
    "    f.write('a\\nb\\nc')\n",
    "with open('data/somefile.txt', 'rt') as f:\n",
    "    data = f.read()\n",
    "    print(data)"
   ]
  },
  {
   "cell_type": "markdown",
   "metadata": {},
   "source": [
    "## 打印输出至文件中"
   ]
  },
  {
   "cell_type": "code",
   "execution_count": 2,
   "metadata": {
    "tags": []
   },
   "outputs": [
    {
     "output_type": "stream",
     "name": "stdout",
     "text": "Hello world!\n\n"
    }
   ],
   "source": [
    "with open('data/somefile.txt', 'wt') as f:\n",
    "    print('Hello world!', file=f)\n",
    "with open('data/somefile.txt', 'rt') as f:\n",
    "    data = f.read()\n",
    "    print(data)"
   ]
  },
  {
   "cell_type": "markdown",
   "metadata": {},
   "source": [
    "## 使用其他分隔符或行终止符打印"
   ]
  },
  {
   "cell_type": "code",
   "execution_count": 3,
   "metadata": {
    "tags": []
   },
   "outputs": [
    {
     "output_type": "stream",
     "name": "stdout",
     "text": "ACME 50 91.5\nACME,50,91.5\nACME,50,91.5!!\n"
    }
   ],
   "source": [
    "print('ACME', 50, 91.5)\n",
    "print('ACME', 50, 91.5, sep=',')\n",
    "print('ACME', 50, 91.5, sep=',', end='!!\\n')"
   ]
  },
  {
   "cell_type": "code",
   "execution_count": 4,
   "metadata": {
    "tags": []
   },
   "outputs": [
    {
     "output_type": "stream",
     "name": "stdout",
     "text": "0 1 2 3 4 5 6 7 8 9"
    }
   ],
   "source": [
    "for i in range(0, 10):\n",
    "    print(i, end=' ')"
   ]
  },
  {
   "cell_type": "markdown",
   "metadata": {},
   "source": [
    "## 读写字节数据"
   ]
  },
  {
   "cell_type": "code",
   "execution_count": 5,
   "metadata": {
    "tags": []
   },
   "outputs": [
    {
     "output_type": "stream",
     "name": "stdout",
     "text": "b'Hello world!'\n"
    }
   ],
   "source": [
    "with open('data/somefile.bin', 'wb') as f:\n",
    "    f.write(b'Hello world!')\n",
    "with open('data/somefile.bin', 'rb') as f:\n",
    "    data = f.read()\n",
    "    print(data)"
   ]
  },
  {
   "cell_type": "markdown",
   "metadata": {},
   "source": [
    "## 文件不存在才能写入"
   ]
  },
  {
   "cell_type": "code",
   "execution_count": 6,
   "metadata": {},
   "outputs": [
    {
     "output_type": "error",
     "ename": "FileExistsError",
     "evalue": "[Errno 17] File exists: 'data/somefile.txt'",
     "traceback": [
      "\u001b[1;31m---------------------------------------------------------------------------\u001b[0m",
      "\u001b[1;31mFileExistsError\u001b[0m                           Traceback (most recent call last)",
      "\u001b[1;32m<ipython-input-6-6adc2bf25e39>\u001b[0m in \u001b[0;36m<module>\u001b[1;34m\u001b[0m\n\u001b[1;32m----> 1\u001b[1;33m \u001b[1;32mwith\u001b[0m \u001b[0mopen\u001b[0m\u001b[1;33m(\u001b[0m\u001b[1;34m'data/somefile.txt'\u001b[0m\u001b[1;33m,\u001b[0m \u001b[1;34m'xt'\u001b[0m\u001b[1;33m)\u001b[0m \u001b[1;32mas\u001b[0m \u001b[0mf\u001b[0m\u001b[1;33m:\u001b[0m\u001b[1;33m\u001b[0m\u001b[1;33m\u001b[0m\u001b[0m\n\u001b[0m\u001b[0;32m      2\u001b[0m     \u001b[0mf\u001b[0m\u001b[1;33m.\u001b[0m\u001b[0mwrite\u001b[0m\u001b[1;33m(\u001b[0m\u001b[1;34m'1'\u001b[0m\u001b[1;33m)\u001b[0m \u001b[1;31m# 会报错，FileExistsError\u001b[0m\u001b[1;33m\u001b[0m\u001b[1;33m\u001b[0m\u001b[0m\n",
      "\u001b[1;31mFileExistsError\u001b[0m: [Errno 17] File exists: 'data/somefile.txt'"
     ]
    }
   ],
   "source": [
    "with open('data/somefile.txt', 'xt') as f:\n",
    "    f.write('1') # 会报错，FileExistsError "
   ]
  },
  {
   "cell_type": "markdown",
   "metadata": {},
   "source": [
    "## 字符串的I/O操作"
   ]
  },
  {
   "cell_type": "code",
   "execution_count": 7,
   "metadata": {
    "tags": []
   },
   "outputs": [
    {
     "output_type": "execute_result",
     "data": {
      "text/plain": "'Hello world!\\nThis is a test\\n'"
     },
     "metadata": {},
     "execution_count": 7
    }
   ],
   "source": [
    "import io\n",
    "s = io.StringIO()\n",
    "s.write('Hello world!\\n')\n",
    "print('This is a test', file=s)\n",
    "s.getvalue()"
   ]
  },
  {
   "cell_type": "code",
   "execution_count": 8,
   "metadata": {},
   "outputs": [
    {
     "output_type": "execute_result",
     "data": {
      "text/plain": "b'data'"
     },
     "metadata": {},
     "execution_count": 8
    }
   ],
   "source": [
    "s = io.BytesIO()\n",
    "s.write(b'data')\n",
    "s.getvalue()"
   ]
  },
  {
   "cell_type": "markdown",
   "metadata": {},
   "source": [
    "## 读写压缩文件"
   ]
  },
  {
   "cell_type": "code",
   "execution_count": 9,
   "metadata": {},
   "outputs": [],
   "source": [
    "text = 'Hello world!'\n",
    "\n",
    "import gzip\n",
    "with gzip.open('data/somefile.gz', 'wt') as f:\n",
    "    f.write(text)\n",
    "\n",
    "import bz2\n",
    "with bz2.open('data/somefile.bz2', 'wt') as f:\n",
    "    f.write(text)"
   ]
  },
  {
   "cell_type": "markdown",
   "metadata": {},
   "source": [
    "## 固定大小记录的文件迭代"
   ]
  },
  {
   "cell_type": "code",
   "execution_count": 10,
   "metadata": {
    "tags": []
   },
   "outputs": [
    {
     "output_type": "stream",
     "name": "stdout",
     "text": "b'Hell'\nb'o wo'\nb'rld!'\n"
    }
   ],
   "source": [
    "from functools import partial\n",
    "\n",
    "RECORD_SIZE = 4\n",
    "\n",
    "with open('data/somefile.bin', 'rb') as f:\n",
    "    record = iter(partial(f.read, RECORD_SIZE), b'')\n",
    "    for r in record:\n",
    "        print(r)"
   ]
  },
  {
   "cell_type": "markdown",
   "metadata": {},
   "source": [
    "## 读取二进制数据到可变缓冲区中"
   ]
  },
  {
   "cell_type": "code",
   "execution_count": 11,
   "metadata": {
    "tags": []
   },
   "outputs": [
    {
     "output_type": "execute_result",
     "data": {
      "text/plain": "bytearray(b'Hello world!')"
     },
     "metadata": {},
     "execution_count": 11
    }
   ],
   "source": [
    "import os.path\n",
    "\n",
    "def read_into_buffer(filename):\n",
    "    buf = bytearray(os.path.getsize(filename))\n",
    "    with open(filename, 'rb') as f:\n",
    "        f.readinto(buf)\n",
    "    return buf\n",
    "\n",
    "buf = read_into_buffer('data/somefile.bin')\n",
    "buf"
   ]
  },
  {
   "cell_type": "markdown",
   "metadata": {},
   "source": [
    "## 内存映射的二进制文件"
   ]
  },
  {
   "cell_type": "code",
   "execution_count": 12,
   "metadata": {
    "tags": []
   },
   "outputs": [
    {
     "output_type": "stream",
     "name": "stdout",
     "text": "100\nb'\\x00\\x00\\x00\\x00\\x00\\x00\\x00\\x00\\x00'\n"
    }
   ],
   "source": [
    "import os\n",
    "import mmap\n",
    "\n",
    "def memo_map(filaname, access=mmap.ACCESS_WRITE):\n",
    "    size = os.path.getsize(filaname)\n",
    "    fd = os.open(filaname, os.O_RDWR)\n",
    "    return mmap.mmap(fd, size, access=access)\n",
    "\n",
    "size = 100\n",
    "with open('data/file', 'wb') as f:\n",
    "    f.seek(size-1)\n",
    "    f.write(b'\\x00')\n",
    "m = memo_map('data/file')\n",
    "print(len(m))\n",
    "print(m[0:9])\n",
    "m.close()"
   ]
  },
  {
   "cell_type": "markdown",
   "metadata": {},
   "source": [
    "## 文件路径名的操作"
   ]
  },
  {
   "cell_type": "code",
   "execution_count": 13,
   "metadata": {
    "tags": []
   },
   "outputs": [
    {
     "output_type": "stream",
     "name": "stdout",
     "text": "somefile.txt\ndata\ntmp\\data\\somefile.txt\n"
    }
   ],
   "source": [
    "import os\n",
    "\n",
    "path = 'data/somefile.txt'\n",
    "print(os.path.basename(path))\n",
    "print(os.path.dirname(path))\n",
    "print(os.path.join('tmp', 'data', os.path.basename(path)))\n"
   ]
  },
  {
   "cell_type": "markdown",
   "metadata": {},
   "source": [
    "## 测试文件是否存在"
   ]
  },
  {
   "cell_type": "code",
   "execution_count": 14,
   "metadata": {
    "tags": []
   },
   "outputs": [
    {
     "output_type": "stream",
     "name": "stdout",
     "text": "True\nFalse\nTrue\nTrue\n"
    }
   ],
   "source": [
    "import os\n",
    "print(os.path.exists('data/somefile.bin'))\n",
    "print(os.path.exists('data/somefile'))\n",
    "print(os.path.isfile('data/somefile.bin'))\n",
    "print(os.path.isdir('data'))\n"
   ]
  },
  {
   "cell_type": "markdown",
   "metadata": {},
   "source": [
    "## 获取文件夹中的文件列表"
   ]
  },
  {
   "cell_type": "code",
   "execution_count": 15,
   "metadata": {
    "tags": []
   },
   "outputs": [
    {
     "output_type": "stream",
     "name": "stdout",
     "text": "['file', 'somefile.bin', 'somefile.bz2', 'somefile.gz', 'somefile.txt']\n['data']\n"
    }
   ],
   "source": [
    "import os.path\n",
    "\n",
    "names = [name for name in os.listdir('data') \n",
    "            if os.path.isfile(os.path.join('data', name))]\n",
    "print(names)\n",
    "\n",
    "dirs = [d for d in os.listdir('./') \n",
    "            if os.path.isdir(os.path.join('./', d)) \n",
    "            and not d.startswith('.')]\n",
    "print(dirs)"
   ]
  },
  {
   "cell_type": "code",
   "execution_count": 17,
   "metadata": {
    "tags": []
   },
   "outputs": [
    {
     "output_type": "stream",
     "name": "stdout",
     "text": "['data\\\\somefile.bin']\n['somefile.bin']\n"
    }
   ],
   "source": [
    "import glob\n",
    "files = glob.glob('data/*.bin')\n",
    "print(files)\n",
    "\n",
    "from fnmatch import fnmatch\n",
    "files = [name for name in os.listdir('data') if fnmatch(name, '*.bin')]\n",
    "print(files)"
   ]
  },
  {
   "cell_type": "markdown",
   "metadata": {},
   "source": [
    "## 忽略文件名编码"
   ]
  },
  {
   "cell_type": "code",
   "execution_count": 18,
   "metadata": {
    "tags": []
   },
   "outputs": [
    {
     "output_type": "stream",
     "name": "stdout",
     "text": "utf-8\n"
    }
   ],
   "source": [
    "print(sys.getfilesystemencoding())\n"
   ]
  },
  {
   "cell_type": "code",
   "execution_count": 1,
   "metadata": {
    "tags": []
   },
   "outputs": [
    {
     "output_type": "stream",
     "name": "stdout",
     "text": "['file', 'jalapeño.txt', 'somefile.bin', 'somefile.bz2', 'somefile.gz', 'somefile.txt']\n"
    }
   ],
   "source": [
    "with open('data/jalape\\xf1o.txt', 'w') as f:\n",
    "    f.write('Spicy!')\n",
    "import os\n",
    "print(os.listdir('data'))"
   ]
  },
  {
   "cell_type": "markdown",
   "metadata": {},
   "source": [
    "## 打印不合法的文件名"
   ]
  },
  {
   "cell_type": "code",
   "execution_count": null,
   "metadata": {},
   "outputs": [],
   "source": [
    "def bad_filename(filename):\n",
    "    return repr(filename)[1:-1]\n",
    "\n",
    "try:\n",
    "    print(filename)\n",
    "except UnicodeEncodeError:\n",
    "    print(bad_filename(filename))"
   ]
  },
  {
   "cell_type": "markdown",
   "metadata": {},
   "source": [
    "## 增加或改变已打开文件的编码"
   ]
  },
  {
   "cell_type": "markdown",
   "metadata": {},
   "source": [
    "如果你想给一个以二进制模式打开的文件添加 Unicode 编码/解码方式，可以使用io.TextIOWrapper() 对象包装它。"
   ]
  },
  {
   "cell_type": "markdown",
   "metadata": {},
   "source": [
    "## 将字节写入文本文件"
   ]
  },
  {
   "cell_type": "markdown",
   "metadata": {},
   "source": [
    "将字节数据直接写入文件的缓冲区即可"
   ]
  },
  {
   "cell_type": "markdown",
   "metadata": {},
   "source": [
    "## 将文件描述符包装成文件对象"
   ]
  },
  {
   "cell_type": "code",
   "execution_count": 2,
   "metadata": {},
   "outputs": [],
   "source": [
    "# 打开文件描述符\n",
    "import os\n",
    "fd = os.open('data/somefile.txt', os.O_WRONLY | os.O_CREAT)\n",
    "# 包装成文件对象\n",
    "f = open(fd, 'wt')\n",
    "f.write('hello world\\n')\n",
    "f.close()"
   ]
  },
  {
   "cell_type": "markdown",
   "metadata": {},
   "source": [
    "## 创建临时文件和文件夹"
   ]
  },
  {
   "cell_type": "code",
   "execution_count": 3,
   "metadata": {
    "tags": []
   },
   "outputs": [
    {
     "output_type": "stream",
     "name": "stdout",
     "text": "Hello World\nTesting\n\n"
    }
   ],
   "source": [
    "from tempfile import TemporaryFile\n",
    "with TemporaryFile('w+t') as f:\n",
    "    # Read/write to the file\n",
    "    f.write('Hello World\\n')\n",
    "    f.write('Testing\\n')\n",
    "    # Seek back to beginning and read the data\n",
    "    f.seek(0)\n",
    "    data = f.read()\n",
    "    print(data)"
   ]
  },
  {
   "cell_type": "markdown",
   "metadata": {},
   "source": [
    "## 与串行端口的数据通信"
   ]
  },
  {
   "cell_type": "markdown",
   "metadata": {},
   "source": [
    "尽管可以通过使用 Python 内置的 I/O 模块来完成这个任务，但对于串行通信,最好的选择是使用 pySerial 包 。"
   ]
  },
  {
   "cell_type": "markdown",
   "metadata": {},
   "source": [
    "## 序列化 Python 对象"
   ]
  },
  {
   "cell_type": "code",
   "execution_count": 6,
   "metadata": {},
   "outputs": [],
   "source": [
    "import pickle\n",
    "data = [1, 2, 3, 4]\n",
    "f = open('data/somefile', 'wb')\n",
    "pickle.dump(data, f)"
   ]
  },
  {
   "cell_type": "code",
   "execution_count": 7,
   "metadata": {},
   "outputs": [
    {
     "output_type": "execute_result",
     "data": {
      "text/plain": "[1, 2, 3, 4]"
     },
     "metadata": {},
     "execution_count": 7
    }
   ],
   "source": [
    "f = open('data/somefile', 'rb')\n",
    "data = pickle.load(f)\n",
    "data"
   ]
  }
 ],
 "metadata": {
  "language_info": {
   "codemirror_mode": {
    "name": "ipython",
    "version": 3
   },
   "file_extension": ".py",
   "mimetype": "text/x-python",
   "name": "python",
   "nbconvert_exporter": "python",
   "pygments_lexer": "ipython3",
   "version": 3
  },
  "orig_nbformat": 2,
  "kernelspec": {
   "name": "python_defaultSpec_1594805312253",
   "display_name": "Python 3.7.3 64-bit ('base': conda)"
  }
 },
 "nbformat": 4,
 "nbformat_minor": 2
}