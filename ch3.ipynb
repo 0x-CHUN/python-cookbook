{
 "cells": [
  {
   "cell_type": "markdown",
   "metadata": {},
   "source": [
    "# 数字日期和时间 "
   ]
  },
  {
   "cell_type": "markdown",
   "metadata": {},
   "source": [
    "## 数字的四舍五入"
   ]
  },
  {
   "cell_type": "code",
   "execution_count": 3,
   "metadata": {
    "tags": []
   },
   "outputs": [
    {
     "output_type": "stream",
     "name": "stdout",
     "text": "1.2\n1.235\n1627730\n1630000\n"
    }
   ],
   "source": [
    "print(round(1.23,1))\n",
    "print(round(1.23456,3))\n",
    "print(round(1627731,-1))\n",
    "print(round(1627731,-4))"
   ]
  },
  {
   "cell_type": "markdown",
   "metadata": {},
   "source": [
    "## 执行精确的浮点数运算"
   ]
  },
  {
   "cell_type": "code",
   "execution_count": 6,
   "metadata": {
    "tags": []
   },
   "outputs": [
    {
     "output_type": "stream",
     "name": "stdout",
     "text": "6.300000000000001\nFalse\n6.3\nTrue\n"
    }
   ],
   "source": [
    "a = 4.2\n",
    "b = 2.1\n",
    "print(a + b)\n",
    "print(a + b == 6.3)\n",
    "\n",
    "from decimal import Decimal\n",
    "a = Decimal('4.2')\n",
    "b = Decimal('2.1')\n",
    "print(a + b)\n",
    "print(a + b == Decimal('6.3'))"
   ]
  },
  {
   "cell_type": "code",
   "execution_count": 9,
   "metadata": {
    "tags": []
   },
   "outputs": [
    {
     "output_type": "stream",
     "name": "stdout",
     "text": "0.7647058823529411764705882353\n0.765\n"
    }
   ],
   "source": [
    "from decimal import localcontext\n",
    "a = Decimal('1.3')\n",
    "b = Decimal('1.7')\n",
    "print(a / b)\n",
    "with localcontext() as ctx:\n",
    "    ctx.prec = 3\n",
    "    print(a / b)"
   ]
  },
  {
   "cell_type": "markdown",
   "metadata": {},
   "source": [
    "## 数字格式化输出"
   ]
  },
  {
   "cell_type": "code",
   "execution_count": 24,
   "metadata": {
    "tags": []
   },
   "outputs": [
    {
     "output_type": "stream",
     "name": "stdout",
     "text": "1234.57\n----1234.6\n1234.6----\n--1234.6--\n1,234.56789\n1,234.6\n1.234568e+03\n1.23E+03\n"
    }
   ],
   "source": [
    "x = 1234.56789\n",
    "print(format(x, '0.2f'))\n",
    "print(format(x, '->10.1f'))\n",
    "print(format(x, '-<10.1f'))\n",
    "print(format(x, '-^10.1f'))\n",
    "print(format(x,','))\n",
    "print(format(x, ',.1f'))\n",
    "print(format(x, 'e'))\n",
    "print(format(x, '0.2E'))"
   ]
  },
  {
   "cell_type": "markdown",
   "metadata": {},
   "source": [
    "##  二八十六进制整数"
   ]
  },
  {
   "cell_type": "code",
   "execution_count": 31,
   "metadata": {
    "tags": []
   },
   "outputs": [
    {
     "output_type": "stream",
     "name": "stdout",
     "text": "0b10011010010\n0o2322\n0x4d2\n--------------------\n10011010010\n2322\n4d2\n--------------------\n1234\n1234\n"
    }
   ],
   "source": [
    "x = 1234\n",
    "print(bin(x))\n",
    "print(oct(x))\n",
    "print(hex(x))\n",
    "print('-'*20)\n",
    "print(format(x, 'b'))\n",
    "print(format(x, 'o'))\n",
    "print(format(x, 'x'))\n",
    "print('-'*20)\n",
    "print(int('4d2',16))\n",
    "print(int('10011010010', 2))"
   ]
  },
  {
   "cell_type": "markdown",
   "metadata": {},
   "source": [
    "## 字节到大整数的打包与解包"
   ]
  },
  {
   "cell_type": "code",
   "execution_count": 40,
   "metadata": {
    "tags": []
   },
   "outputs": [
    {
     "output_type": "stream",
     "name": "stdout",
     "text": "16\n69120565665751139577663547927094891008\n94522842520747284487117727783387188\nb'\\x00\\x124V\\x00x\\x90\\xab\\x00\\xcd\\xef\\x01\\x00#\\x004'\nb'4\\x00#\\x00\\x01\\xef\\xcd\\x00\\xab\\x90x\\x00V4\\x12\\x00'\n94522842520747284487117727783387188\n335381300113661875107536852714019056160355655333978849017944067\nb'\\x03X\\xf1\\x82iT\\x96\\xac\\xc7c\\x16\\xf3\\xb9\\xcf\\x18\\xee\\xec\\x91\\xd1\\x98\\xa2\\xc8\\xd9R\\xb5\\xd0'\n"
    }
   ],
   "source": [
    "data = b'\\x00\\x124V\\x00x\\x90\\xab\\x00\\xcd\\xef\\x01\\x00#\\x004'\n",
    "print(len(data))\n",
    "print(int.from_bytes(data, 'little'))\n",
    "print(int.from_bytes(data, 'big'))\n",
    "x = 94522842520747284487117727783387188\n",
    "print(x.to_bytes(16, 'big'))\n",
    "print(x.to_bytes(16, 'little'))\n",
    "\n",
    "import struct\n",
    "hi, lo = struct.unpack('>QQ', data)\n",
    "print((hi << 64) + lo)\n",
    "\n",
    "# 可以使用 int.bit_length() 方法来决定需要多少字节位来存储这个值。\n",
    "x = 523 ** 23\n",
    "print(x)\n",
    "nbytes, rem = divmod(x.bit_length(), 8)\n",
    "if rem:\n",
    "    nbytes += 1\n",
    "print(x.to_bytes(nbytes, 'little'))"
   ]
  },
  {
   "cell_type": "markdown",
   "metadata": {},
   "source": [
    "## 复数的数学运算"
   ]
  },
  {
   "cell_type": "code",
   "execution_count": 48,
   "metadata": {
    "tags": []
   },
   "outputs": [
    {
     "output_type": "stream",
     "name": "stdout",
     "text": "(3+4j) 3.0 4.0 (3-4j)\n(3-5j) 3.0 -5.0 (3+5j)\n(6-1j)\n9j\n(29-3j)\n(-0.3235294117647059+0.7941176470588236j)\n5.0\n(3.853738037919377-27.016813258003936j)\n(-27.034945603074224-3.8511533348117775j)\n(-13.128783081462158-15.200784463067954j)\n"
    }
   ],
   "source": [
    "a = complex(3, 4)\n",
    "b = 3-5j\n",
    "print(a, a.real, a.imag, a.conjugate())\n",
    "print(b, b.real, b.imag, b.conjugate())\n",
    "print(a + b)\n",
    "print(a - b)\n",
    "print(a * b)\n",
    "print(a / b)\n",
    "print(abs(a))\n",
    "\n",
    "import cmath\n",
    "print(cmath.sin(a))\n",
    "print(cmath.cos(a))\n",
    "print(cmath.exp(a))"
   ]
  },
  {
   "cell_type": "markdown",
   "metadata": {},
   "source": [
    "## 无穷大与 NaN"
   ]
  },
  {
   "cell_type": "code",
   "execution_count": 51,
   "metadata": {
    "tags": []
   },
   "outputs": [
    {
     "output_type": "stream",
     "name": "stdout",
     "text": "inf -inf nan\nTrue\nTrue\nTrue\n"
    }
   ],
   "source": [
    "inf = float('inf')\n",
    "neg_inf = float('-inf')\n",
    "NaN = float('nan')\n",
    "print(inf, neg_inf, NaN)\n",
    "import math\n",
    "print(math.isinf(inf))\n",
    "print(math.isinf(neg_inf))\n",
    "print(math.isnan(NaN))"
   ]
  },
  {
   "cell_type": "markdown",
   "metadata": {},
   "source": [
    "## 分数运算"
   ]
  },
  {
   "cell_type": "code",
   "execution_count": 6,
   "metadata": {
    "tags": []
   },
   "outputs": [
    {
     "output_type": "stream",
     "name": "stdout",
     "text": "27/16\n35/64\n35 64\n0.546875\n4/7\n15/4\n"
    }
   ],
   "source": [
    "from fractions import Fraction\n",
    "\n",
    "a = Fraction(5, 4)\n",
    "b = Fraction(7, 16)\n",
    "\n",
    "print(a + b)\n",
    "print(a * b)\n",
    "\n",
    "c = a * b\n",
    "print(c.numerator, c.denominator)\n",
    "\n",
    "print(float(c))\n",
    "\n",
    "print(c.limit_denominator(8))\n",
    "\n",
    "x = 3.75\n",
    "y = Fraction(*x.as_integer_ratio())\n",
    "print(y)"
   ]
  },
  {
   "cell_type": "markdown",
   "metadata": {},
   "source": [
    "## 大型数组运算"
   ]
  },
  {
   "cell_type": "code",
   "execution_count": 13,
   "metadata": {
    "tags": []
   },
   "outputs": [
    {
     "output_type": "stream",
     "name": "stdout",
     "text": "[1, 2, 3, 4, 1, 2, 3, 4]\n[1, 2, 3, 4, 5, 6, 7, 8]\n[2 4 6 8]\n[ 6  8 10 12]\n[ 1  4  9 16]\n[1.         1.41421356 1.73205081 2.        ]\n[ 0.54030231 -0.41614684 -0.9899925  -0.65364362]\n"
    }
   ],
   "source": [
    "x = [1, 2, 3, 4]\n",
    "y = [5, 6, 7, 8]\n",
    "print(x * 2)\n",
    "print(x + y)\n",
    "\n",
    "import numpy as np\n",
    "ax = np.array([1, 2, 3, 4])\n",
    "ay = np.array([5, 6, 7, 8])\n",
    "print(ax * 2)\n",
    "print(ax + ay)\n",
    "\n",
    "def f(x):\n",
    "    return x**2\n",
    "\n",
    "print(f(ax))\n",
    "print(np.sqrt(ax)) # numpy内置的通用函数（如sqrt）比math模块中的块\n",
    "print(np.cos(ax))"
   ]
  },
  {
   "cell_type": "markdown",
   "metadata": {},
   "source": [
    "## 矩阵与线性代数运算"
   ]
  },
  {
   "cell_type": "code",
   "execution_count": 24,
   "metadata": {
    "tags": []
   },
   "outputs": [
    {
     "output_type": "stream",
     "name": "stdout",
     "text": "[[ 1 -2  3]\n [ 0  4  5]\n [ 7  8 -9]]\n[[ 1  0  7]\n [-2  4  8]\n [ 3  5 -9]]\n[[ 0.33043478 -0.02608696  0.09565217]\n [-0.15217391  0.13043478  0.02173913]\n [ 0.12173913  0.09565217 -0.0173913 ]]\n[[ 8]\n [32]\n [ 2]]\n-229.99999999999983\n[-13.11474312   2.75956154   6.35518158]\n[[0.96521739]\n [0.17391304]\n [0.46086957]]\n"
    }
   ],
   "source": [
    "import numpy as np\n",
    "\n",
    "m = np.matrix([[1,-2,3],[0,4,5],[7,8,-9]])\n",
    "print(m)\n",
    "print(m.T)\n",
    "print(m.I)\n",
    "v = np.matrix([[2],[3],[4]])\n",
    "print(m * v)\n",
    "\n",
    "import numpy.linalg\n",
    "\n",
    "print(numpy.linalg.det(m))\n",
    "print(numpy.linalg.eigvals(m))\n",
    "print(numpy.linalg.solve(m, v))"
   ]
  },
  {
   "cell_type": "markdown",
   "metadata": {},
   "source": [
    "## 随机选择"
   ]
  },
  {
   "cell_type": "code",
   "execution_count": 82,
   "metadata": {
    "tags": []
   },
   "outputs": [
    {
     "output_type": "stream",
     "name": "stdout",
     "text": "3\n[6, 4, 3]\n[5, 2, 1, 3, 4, 6]\n7\n0.8051427420789375\n709720960601894187371878292665270967221516886150453990958172\n"
    }
   ],
   "source": [
    "import random\n",
    "\n",
    "values = [1, 2, 3, 4, 5, 6]\n",
    "# 随机选择一个\n",
    "print(random.choice(values))\n",
    "# 随机选择n个\n",
    "print(random.sample(values, 3))\n",
    "# 打乱\n",
    "random.shuffle(values)\n",
    "print(values)\n",
    "# 生成随机整数\n",
    "print(random.randint(1,10))\n",
    "# 生成0-1随机浮点数\n",
    "print(random.random())\n",
    "# 生成N位随机位（二进制）的整数\n",
    "print(random.getrandbits(200))"
   ]
  },
  {
   "cell_type": "markdown",
   "metadata": {},
   "source": [
    "## 基本的日期与时间转换"
   ]
  },
  {
   "cell_type": "code",
   "execution_count": 87,
   "metadata": {
    "tags": []
   },
   "outputs": [
    {
     "output_type": "stream",
     "name": "stdout",
     "text": "2\n37800\n2020-06-30 00:00:00\n7\n"
    }
   ],
   "source": [
    "from datetime import timedelta\n",
    "a = timedelta(days=2, hours=6)\n",
    "b = timedelta(hours=4.5)\n",
    "c = a + b\n",
    "print(c.days)\n",
    "print(c.seconds)\n",
    "\n",
    "from datetime import datetime\n",
    "a = datetime(2020, 6, 23)\n",
    "print(a + timedelta(days=7))\n",
    "b = datetime(2020, 6, 30)\n",
    "print((b - a).days)"
   ]
  },
  {
   "cell_type": "markdown",
   "metadata": {},
   "source": [
    "## 计算最后一个周五的日期"
   ]
  },
  {
   "cell_type": "code",
   "execution_count": 89,
   "metadata": {
    "tags": []
   },
   "outputs": [
    {
     "output_type": "stream",
     "name": "stdout",
     "text": "2020-06-22 17:28:49.412610\n"
    }
   ],
   "source": [
    "from datetime import datetime, timedelta\n",
    "\n",
    "weekdays = ['Monday', 'Tuesday', 'Wednesday', 'Thursday','Friday', 'Saturday', 'Sunday']\n",
    "\n",
    "def get_previous_byday(dayname, start_date = None):\n",
    "    if start_date is None:\n",
    "        start_date = datetime.today()\n",
    "    day_num = start_date.weekday()\n",
    "    day_num_target = weekdays.index(dayname)\n",
    "    days_ago = (7 + day_num - day_num_target) % 7\n",
    "    if days_ago == 0:\n",
    "        days_ago = 7\n",
    "    target_date = start_date - timedelta(days=days_ago)\n",
    "    return target_date\n",
    "\n",
    "print(get_previous_byday('Monday'))\n",
    "# 执行大量的日期计算的话，最好安装第三方包 python-dateutil"
   ]
  },
  {
   "cell_type": "markdown",
   "metadata": {},
   "source": [
    "## 计算当前月份的日期范围"
   ]
  },
  {
   "cell_type": "code",
   "execution_count": 2,
   "metadata": {
    "tags": []
   },
   "outputs": [
    {
     "output_type": "stream",
     "name": "stdout",
     "text": "2020-06-01\n2020-06-02\n2020-06-03\n2020-06-04\n2020-06-05\n2020-06-06\n2020-06-07\n2020-06-08\n2020-06-09\n2020-06-10\n2020-06-11\n2020-06-12\n2020-06-13\n2020-06-14\n2020-06-15\n2020-06-16\n2020-06-17\n2020-06-18\n2020-06-19\n2020-06-20\n2020-06-21\n2020-06-22\n2020-06-23\n2020-06-24\n2020-06-25\n2020-06-26\n2020-06-27\n2020-06-28\n2020-06-29\n2020-06-30\n"
    }
   ],
   "source": [
    "from datetime import datetime, date, timedelta\n",
    "import calendar\n",
    "def get_month_range(start_date=None):\n",
    "    if start_date is None:\n",
    "        start_date = date.today().replace(day=1)\n",
    "    _, days_in_month = calendar.monthrange(start_date.year, start_date.month)\n",
    "    end_date = start_date + timedelta(days=days_in_month)\n",
    "    return (start_date, end_date)\n",
    "\n",
    "a_day = timedelta(days=1)\n",
    "first_day, last_day = get_month_range()\n",
    "while first_day < last_day:\n",
    "    print(first_day)\n",
    "    first_day += a_day"
   ]
  },
  {
   "cell_type": "markdown",
   "metadata": {},
   "source": [
    "## 字符串转换为日期"
   ]
  },
  {
   "cell_type": "code",
   "execution_count": 3,
   "metadata": {
    "tags": []
   },
   "outputs": [
    {
     "output_type": "stream",
     "name": "stdout",
     "text": "17:41:44.383312\n"
    }
   ],
   "source": [
    "from datetime import datetime\n",
    "text = '2020-06-23'\n",
    "y = datetime.strptime(text, '%Y-%m-%d')\n",
    "z = datetime.now()\n",
    "print(z-y)\n",
    "\n",
    "# strptime() 性能很差，因为它是使用纯 Python 实现，并且必须处理所有的系统本地设置。\n",
    "\n",
    "from datetime import datetime\n",
    "def parse_ymd(s):\n",
    "    year_s, mon_s, day_s = s.split('-')\n",
    "    return datetime(int(year_s), int(mon_s), int(day_s))\n",
    "# 实际测试中，这个函数比 datetime.strptime() 快 7 倍多。"
   ]
  }
 ],
 "metadata": {
  "language_info": {
   "codemirror_mode": {
    "name": "ipython",
    "version": 3
   },
   "file_extension": ".py",
   "mimetype": "text/x-python",
   "name": "python",
   "nbconvert_exporter": "python",
   "pygments_lexer": "ipython3",
   "version": "3.7.3-final"
  },
  "orig_nbformat": 2,
  "kernelspec": {
   "name": "python3",
   "display_name": "Python 3"
  }
 },
 "nbformat": 4,
 "nbformat_minor": 2
}