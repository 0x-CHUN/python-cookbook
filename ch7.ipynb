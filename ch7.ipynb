{
 "metadata": {
  "language_info": {
   "codemirror_mode": {
    "name": "ipython",
    "version": 3
   },
   "file_extension": ".py",
   "mimetype": "text/x-python",
   "name": "python",
   "nbconvert_exporter": "python",
   "pygments_lexer": "ipython3",
   "version": "3.7.3-final"
  },
  "orig_nbformat": 2,
  "kernelspec": {
   "name": "python3",
   "display_name": "Python 3"
  }
 },
 "nbformat": 4,
 "nbformat_minor": 2,
 "cells": [
  {
   "cell_type": "markdown",
   "metadata": {},
   "source": [
    "# 函数"
   ]
  },
  {
   "cell_type": "markdown",
   "metadata": {},
   "source": [
    "## 可接受任意数量参数的函数"
   ]
  },
  {
   "cell_type": "code",
   "execution_count": 1,
   "metadata": {},
   "outputs": [
    {
     "output_type": "execute_result",
     "data": {
      "text/plain": "2.5"
     },
     "metadata": {},
     "execution_count": 1
    }
   ],
   "source": [
    "def avg(first, *rest):\n",
    "    return (first + sum(rest)) / (1 + len(rest))\n",
    "\n",
    "avg(1, 2, 3, 4)"
   ]
  },
  {
   "cell_type": "code",
   "execution_count": 2,
   "metadata": {},
   "outputs": [],
   "source": [
    "import html\n",
    "\n",
    "def make_element(name, value, **attrs):\n",
    "    keyvals = [' %s=\"%s\"' % item for item in attrs.items()]\n",
    "    attr_str = ''.join(keyvals)\n",
    "    element = '<{name}{attrs}>{value}</{name}>'.format(\n",
    "        name=name,\n",
    "        attrs=attr_str,\n",
    "        value=html.escape(value)\n",
    "    )\n",
    "    return element\n",
    "\n"
   ]
  },
  {
   "cell_type": "code",
   "execution_count": 3,
   "metadata": {},
   "outputs": [
    {
     "output_type": "execute_result",
     "data": {
      "text/plain": "'<item size=\"large\" quantity=\"6\">Albatross</item>'"
     },
     "metadata": {},
     "execution_count": 3
    }
   ],
   "source": [
    "make_element('item', 'Albatross', size='large', quantity=6)"
   ]
  },
  {
   "cell_type": "code",
   "execution_count": 4,
   "metadata": {},
   "outputs": [
    {
     "output_type": "execute_result",
     "data": {
      "text/plain": "'<p>&lt;spam&gt;</p>'"
     },
     "metadata": {},
     "execution_count": 4
    }
   ],
   "source": [
    "make_element('p', '<spam>')"
   ]
  },
  {
   "cell_type": "markdown",
   "metadata": {},
   "source": [
    "## 只接受关键字参数的函数"
   ]
  },
  {
   "cell_type": "code",
   "execution_count": 6,
   "metadata": {
    "tags": []
   },
   "outputs": [
    {
     "output_type": "stream",
     "name": "stdout",
     "text": "Type Error\nok\n"
    }
   ],
   "source": [
    "def recv(maxsize, *, block):\n",
    "    print('ok')\n",
    "\n",
    "try:\n",
    "    recv(1024,True)\n",
    "except TypeError:\n",
    "    print('Type Error')\n",
    "\n",
    "recv(1024, block=True)"
   ]
  },
  {
   "cell_type": "markdown",
   "metadata": {},
   "source": [
    "## 给函数参数添加元信息"
   ]
  },
  {
   "cell_type": "code",
   "execution_count": 1,
   "metadata": {
    "tags": []
   },
   "outputs": [
    {
     "output_type": "stream",
     "name": "stdout",
     "text": "Help on function add in module __main__:\n\nadd(x: int, y: int) -> int\n\n"
    }
   ],
   "source": [
    "def add(x:int, y:int) ->int:\n",
    "    return x + y\n",
    "\n",
    "help(add)"
   ]
  },
  {
   "cell_type": "code",
   "execution_count": 2,
   "metadata": {},
   "outputs": [
    {
     "output_type": "execute_result",
     "data": {
      "text/plain": "{'x': int, 'y': int, 'return': int}"
     },
     "metadata": {},
     "execution_count": 2
    }
   ],
   "source": [
    "add.__annotations__"
   ]
  },
  {
   "cell_type": "markdown",
   "metadata": {},
   "source": [
    "## 返回多个值的函数"
   ]
  },
  {
   "cell_type": "code",
   "execution_count": 4,
   "metadata": {
    "tags": []
   },
   "outputs": [
    {
     "output_type": "stream",
     "name": "stdout",
     "text": "1 2 3\n"
    }
   ],
   "source": [
    "def myfun():\n",
    "    return 1, 2, 3\n",
    "\n",
    "a, b, c = myfun() # 返回的是一个元组\n",
    "print(a, b, c)"
   ]
  },
  {
   "cell_type": "markdown",
   "metadata": {},
   "source": [
    "## 定义有默认参数的函数"
   ]
  },
  {
   "cell_type": "code",
   "execution_count": 6,
   "metadata": {
    "tags": []
   },
   "outputs": [
    {
     "output_type": "stream",
     "name": "stdout",
     "text": "1 42\n1 2\n"
    }
   ],
   "source": [
    "def spam(a, b=42):\n",
    "    print(a, b)\n",
    "\n",
    "spam(1)\n",
    "spam(1, 2)"
   ]
  },
  {
   "cell_type": "markdown",
   "metadata": {},
   "source": [
    "## 定义匿名或内联函数"
   ]
  },
  {
   "cell_type": "code",
   "execution_count": 7,
   "metadata": {},
   "outputs": [
    {
     "output_type": "execute_result",
     "data": {
      "text/plain": "5"
     },
     "metadata": {},
     "execution_count": 7
    }
   ],
   "source": [
    "add = lambda x, y : x + y\n",
    "add(2, 3)"
   ]
  },
  {
   "cell_type": "code",
   "execution_count": 8,
   "metadata": {},
   "outputs": [
    {
     "output_type": "execute_result",
     "data": {
      "text/plain": "['Ned Batchelder', 'David Beazley', 'Raymond Hettinger', 'Brian Jones']"
     },
     "metadata": {},
     "execution_count": 8
    }
   ],
   "source": [
    "names = ['David Beazley', 'Brian Jones',\n",
    "'Raymond Hettinger', 'Ned Batchelder']\n",
    "sorted(names, key=lambda name : name.split()[-1].lower())"
   ]
  },
  {
   "cell_type": "markdown",
   "metadata": {},
   "source": [
    "## 匿名函数捕获变量值"
   ]
  },
  {
   "cell_type": "code",
   "execution_count": 11,
   "metadata": {
    "tags": []
   },
   "outputs": [
    {
     "output_type": "stream",
     "name": "stdout",
     "text": "30\n30\n"
    }
   ],
   "source": [
    "x = 10\n",
    "a = lambda y: x + y\n",
    "x = 20\n",
    "b = lambda y: x + y\n",
    "\n",
    "print(a(10))\n",
    "print(b(10))\n",
    "#  lambda 表达式中的 x 是一个自由变量，在运行时绑定值，而不是定义时就绑定"
   ]
  },
  {
   "cell_type": "markdown",
   "metadata": {},
   "source": [
    "## 减少可调用对象的参数个数"
   ]
  },
  {
   "cell_type": "code",
   "execution_count": 12,
   "metadata": {
    "tags": []
   },
   "outputs": [
    {
     "output_type": "stream",
     "name": "stdout",
     "text": "1 2 3 4\n1 2 3 42\n1 2 4 42\n"
    }
   ],
   "source": [
    "def spam(a, b, c, d):\n",
    "    print(a, b, c, d)\n",
    "\n",
    "from functools import partial\n",
    "\n",
    "s1 = partial(spam, 1)\n",
    "s1(2, 3, 4)\n",
    "\n",
    "s2 = partial(spam, d=42)\n",
    "s2(1, 2, 3)\n",
    "\n",
    "s3 = partial(spam, 1, 2, d=42)\n",
    "s3(4)"
   ]
  },
  {
   "cell_type": "code",
   "execution_count": 13,
   "metadata": {},
   "outputs": [
    {
     "output_type": "execute_result",
     "data": {
      "text/plain": "[(3, 4), (1, 2), (5, 6), (7, 8)]"
     },
     "metadata": {},
     "execution_count": 13
    }
   ],
   "source": [
    "points = [ (1, 2), (3, 4), (5, 6), (7, 8) ]\n",
    "import math\n",
    "def distance(p1, p2):\n",
    "    x1, y1 = p1\n",
    "    x2, y2 = p2\n",
    "    return math.hypot(x2 - x1, y2 - y1)\n",
    "\n",
    "pt = (4, 3)\n",
    "points.sort(key=partial(distance, pt))\n",
    "points"
   ]
  },
  {
   "cell_type": "markdown",
   "metadata": {},
   "source": [
    "## 将单方法的类转换为函数"
   ]
  },
  {
   "cell_type": "code",
   "execution_count": 14,
   "metadata": {},
   "outputs": [],
   "source": [
    "from urllib.request import urlopen\n",
    "class UrlTemplate:\n",
    "    def __init__(self, template):\n",
    "        self.template = template\n",
    "    def open(self, **kwargs):\n",
    "        return urlopen(self.template.format_map(kwargs))"
   ]
  },
  {
   "cell_type": "code",
   "execution_count": 15,
   "metadata": {},
   "outputs": [],
   "source": [
    "def urltemplate(template):\n",
    "    def opener(**kwargs):\n",
    "        return urlopen(template.format_map(kwargs))\n",
    "    return opener"
   ]
  },
  {
   "cell_type": "markdown",
   "metadata": {},
   "source": [
    "## 带额外状态信息的回调函数"
   ]
  },
  {
   "cell_type": "code",
   "execution_count": 20,
   "metadata": {
    "tags": []
   },
   "outputs": [
    {
     "output_type": "stream",
     "name": "stdout",
     "text": "Got:  5\n"
    }
   ],
   "source": [
    "def apply_async(func, args, *, callback):\n",
    "    result = func(*args)\n",
    "    callback(result)\n",
    "\n",
    "def print_result(result):\n",
    "    print('Got: ', result)\n",
    "\n",
    "add = lambda x, y : x + y\n",
    "\n",
    "apply_async(add, (2,3), callback=print_result)"
   ]
  },
  {
   "cell_type": "markdown",
   "metadata": {},
   "source": [
    "## 内联回调函数"
   ]
  },
  {
   "cell_type": "code",
   "execution_count": 33,
   "metadata": {
    "tags": []
   },
   "outputs": [
    {
     "output_type": "stream",
     "name": "stdout",
     "text": "5\nhelloworld\n0\n2\n4\n6\n8\n10\n12\n14\n16\n18\nGoodbye\n"
    }
   ],
   "source": [
    "from queue import Queue\n",
    "from functools import wraps\n",
    "\n",
    "class Async:\n",
    "    def __init__(self, func, args):\n",
    "        self.func = func\n",
    "        self.args = args\n",
    "\n",
    "def inlined_async(func):\n",
    "    @wraps(func)\n",
    "    def wrapper(*args):\n",
    "        f = func(*args)\n",
    "        result_queue = Queue()\n",
    "        result_queue.put(None)\n",
    "        while True:\n",
    "            result = result_queue.get()\n",
    "            try:\n",
    "                a = f.send(result)\n",
    "                apply_async(a.func, a.args, callback=result_queue.put)\n",
    "            except StopIteration:\n",
    "                break\n",
    "    return wrapper\n",
    "\n",
    "def add(x, y):\n",
    "    return x + y\n",
    "\n",
    "@inlined_async\n",
    "def test():\n",
    "    r = yield Async(add, (2, 3))\n",
    "    print(r)\n",
    "    r = yield Async(add, ('hello', 'world'))\n",
    "    print(r)\n",
    "    for n in range(10):\n",
    "        r = yield Async(add, (n, n))\n",
    "        print(r)\n",
    "    print('Goodbye')\n",
    "\n",
    "test()"
   ]
  },
  {
   "cell_type": "markdown",
   "metadata": {},
   "source": [
    "## 访问闭包中定义的变量"
   ]
  },
  {
   "cell_type": "code",
   "execution_count": 37,
   "metadata": {
    "tags": []
   },
   "outputs": [
    {
     "output_type": "stream",
     "name": "stdout",
     "text": "n =  0\nn =  10\n"
    },
    {
     "output_type": "execute_result",
     "data": {
      "text/plain": "10"
     },
     "metadata": {},
     "execution_count": 37
    }
   ],
   "source": [
    "def sample():\n",
    "    n = 0\n",
    "    def func():\n",
    "        print('n = ', n)\n",
    "    \n",
    "    def get_n():\n",
    "        return n\n",
    "\n",
    "    def set_n(value):\n",
    "        nonlocal n\n",
    "        n = value\n",
    "\n",
    "    func.get_n = get_n\n",
    "    func.set_n = set_n\n",
    "    return func\n",
    "\n",
    "f  = sample()\n",
    "f()\n",
    "f.set_n(10)\n",
    "f()\n",
    "f.get_n()"
   ]
  }
 ]
}